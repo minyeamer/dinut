{
 "cells": [
  {
   "cell_type": "markdown",
   "metadata": {
    "id": "S-cORaO3Gz55"
   },
   "source": [
    "# AI허브 건강관리를 위한 음식 이미지"
   ]
  },
  {
   "cell_type": "code",
   "execution_count": null,
   "metadata": {
    "colab": {
     "base_uri": "https://localhost:8080/"
    },
    "executionInfo": {
     "elapsed": 825,
     "status": "ok",
     "timestamp": 1653637432070,
     "user": {
      "displayName": "김민엽",
      "userId": "11235644958609629845"
     },
     "user_tz": -540
    },
    "id": "gO3CAQ_Nl7FY",
    "outputId": "8fb6816a-0bff-4a6c-c4bd-4011abb6a317"
   },
   "outputs": [
    {
     "name": "stdout",
     "output_type": "stream",
     "text": [
      "Fri May 27 07:43:51 2022       \n",
      "+-----------------------------------------------------------------------------+\n",
      "| NVIDIA-SMI 460.32.03    Driver Version: 460.32.03    CUDA Version: 11.2     |\n",
      "|-------------------------------+----------------------+----------------------+\n",
      "| GPU  Name        Persistence-M| Bus-Id        Disp.A | Volatile Uncorr. ECC |\n",
      "| Fan  Temp  Perf  Pwr:Usage/Cap|         Memory-Usage | GPU-Util  Compute M. |\n",
      "|                               |                      |               MIG M. |\n",
      "|===============================+======================+======================|\n",
      "|   0  Tesla T4            Off  | 00000000:00:04.0 Off |                    0 |\n",
      "| N/A   49C    P8     9W /  70W |      0MiB / 15109MiB |      0%      Default |\n",
      "|                               |                      |                  N/A |\n",
      "+-------------------------------+----------------------+----------------------+\n",
      "                                                                               \n",
      "+-----------------------------------------------------------------------------+\n",
      "| Processes:                                                                  |\n",
      "|  GPU   GI   CI        PID   Type   Process name                  GPU Memory |\n",
      "|        ID   ID                                                   Usage      |\n",
      "|=============================================================================|\n",
      "|  No running processes found                                                 |\n",
      "+-----------------------------------------------------------------------------+\n"
     ]
    }
   ],
   "source": [
    "!nvidia-smi"
   ]
  },
  {
   "cell_type": "code",
   "execution_count": null,
   "metadata": {
    "colab": {
     "base_uri": "https://localhost:8080/"
    },
    "executionInfo": {
     "elapsed": 18139,
     "status": "ok",
     "timestamp": 1653637453836,
     "user": {
      "displayName": "김민엽",
      "userId": "11235644958609629845"
     },
     "user_tz": -540
    },
    "id": "hb5S7hOCiTVb",
    "outputId": "b92631fe-4de7-46f7-b762-5c74e8b4dd09"
   },
   "outputs": [
    {
     "name": "stdout",
     "output_type": "stream",
     "text": [
      "Mounted at /content/drive\n"
     ]
    }
   ],
   "source": [
    "from google.colab import drive\n",
    "drive.mount('/content/drive')"
   ]
  },
  {
   "cell_type": "code",
   "execution_count": null,
   "metadata": {
    "executionInfo": {
     "elapsed": 322,
     "status": "ok",
     "timestamp": 1653637471632,
     "user": {
      "displayName": "김민엽",
      "userId": "11235644958609629845"
     },
     "user_tz": -540
    },
    "id": "A2HTB2UGGz6A"
   },
   "outputs": [],
   "source": [
    "import os\n",
    "import random\n",
    "root_dir = '/content/drive/MyDrive'\n",
    "base_dir = os.path.join(root_dir, 'data')\n",
    "split_dir = {split_name:os.path.join(base_dir,split_name)\n",
    "                for split_name in ['train','valid','test']}\n",
    "os.chdir(root_dir)\n",
    "random.seed = 42"
   ]
  },
  {
   "cell_type": "code",
   "execution_count": null,
   "metadata": {
    "executionInfo": {
     "elapsed": 318810,
     "status": "ok",
     "timestamp": 1653638192227,
     "user": {
      "displayName": "김민엽",
      "userId": "11235644958609629845"
     },
     "user_tz": -540
    },
    "id": "NGcHgx1B8Gn2"
   },
   "outputs": [],
   "source": [
    "!unzip -qq data.zip"
   ]
  },
  {
   "cell_type": "markdown",
   "metadata": {
    "id": "8lvQZ6pHGz6B"
   },
   "source": [
    "## Modeling"
   ]
  },
  {
   "cell_type": "code",
   "execution_count": null,
   "metadata": {
    "colab": {
     "base_uri": "https://localhost:8080/"
    },
    "executionInfo": {
     "elapsed": 3960,
     "status": "ok",
     "timestamp": 1653638255164,
     "user": {
      "displayName": "김민엽",
      "userId": "11235644958609629845"
     },
     "user_tz": -540
    },
    "id": "3uJLQBOAiRC9",
    "outputId": "1dd38db0-1d66-4d59-f221-32d3adb24e53"
   },
   "outputs": [
    {
     "name": "stdout",
     "output_type": "stream",
     "text": [
      "2.8.0\n"
     ]
    }
   ],
   "source": [
    "import tensorflow as tf\n",
    "from keras.applications.inception_v3 import InceptionV3\n",
    "from keras.models import Model, load_model\n",
    "from keras.layers import Dense, Dropout, Flatten, AveragePooling2D, Input\n",
    "from keras.preprocessing import image\n",
    "from keras.preprocessing.image import ImageDataGenerator\n",
    "from keras.callbacks import ModelCheckpoint, LearningRateScheduler, EarlyStopping\n",
    "from keras.regularizers import l2\n",
    "from tensorflow.keras.optimizers import Adam, SGD\n",
    "from tensorflow.keras import layers, regularizers, optimizers\n",
    "print(tf.__version__)"
   ]
  },
  {
   "cell_type": "code",
   "execution_count": null,
   "metadata": {
    "colab": {
     "base_uri": "https://localhost:8080/"
    },
    "executionInfo": {
     "elapsed": 657,
     "status": "ok",
     "timestamp": 1653638257448,
     "user": {
      "displayName": "김민엽",
      "userId": "11235644958609629845"
     },
     "user_tz": -540
    },
    "id": "x8_Yhnt0W3DJ",
    "outputId": "d3a2d620-991e-4f7b-8244-2bb29b3c2067"
   },
   "outputs": [
    {
     "name": "stdout",
     "output_type": "stream",
     "text": [
      "Python 3.7.13\n"
     ]
    }
   ],
   "source": [
    "!python --version"
   ]
  },
  {
   "cell_type": "markdown",
   "metadata": {},
   "source": [
    "## Make Generator"
   ]
  },
  {
   "cell_type": "code",
   "execution_count": null,
   "metadata": {
    "colab": {
     "base_uri": "https://localhost:8080/"
    },
    "executionInfo": {
     "elapsed": 5543,
     "status": "ok",
     "timestamp": 1653638263988,
     "user": {
      "displayName": "김민엽",
      "userId": "11235644958609629845"
     },
     "user_tz": -540
    },
    "id": "z4O5O7IOGz6D",
    "outputId": "fe04342a-1c38-4702-bd89-f8f0e75efa52"
   },
   "outputs": [
    {
     "name": "stdout",
     "output_type": "stream",
     "text": [
      "Found 81018 images belonging to 422 classes.\n",
      "Found 23521 images belonging to 422 classes.\n",
      "Found 11119 images belonging to 422 classes.\n"
     ]
    }
   ],
   "source": [
    "train_datagen = ImageDataGenerator(\n",
    "    rescale = 1./255,\n",
    "    rotation_range=20,\n",
    "    width_shift_range=0.2,\n",
    "    height_shift_range=0.2,\n",
    "    shear_range=0.2,\n",
    "    zoom_range=0.2,\n",
    "    horizontal_flip=True,\n",
    "    fill_mode='nearest'\n",
    ")\n",
    "\n",
    "val_datagen = ImageDataGenerator(rescale = 1./255)\n",
    "test_datagen = ImageDataGenerator(rescale= 1./255) \n",
    "\n",
    "train_generator = train_datagen.flow_from_directory(\n",
    "    split_dir['train'],\n",
    "    target_size = (299, 299),\n",
    "    batch_size = 32,\n",
    "    seed = 42\n",
    ")\n",
    "\n",
    "val_generator = val_datagen.flow_from_directory(\n",
    "    split_dir['valid'],\n",
    "    target_size = (299, 299),\n",
    "    batch_size = 32,\n",
    "    shuffle=True,\n",
    "    seed = 42\n",
    ")\n",
    "\n",
    "test_generator = test_datagen.flow_from_directory(\n",
    "    split_dir['test'],\n",
    "    target_size = (299, 299),\n",
    "    batch_size = 32,\n",
    "    seed = 42\n",
    ")"
   ]
  },
  {
   "cell_type": "code",
   "execution_count": null,
   "metadata": {
    "colab": {
     "base_uri": "https://localhost:8080/"
    },
    "executionInfo": {
     "elapsed": 1016,
     "status": "ok",
     "timestamp": 1653638294678,
     "user": {
      "displayName": "김민엽",
      "userId": "11235644958609629845"
     },
     "user_tz": -540
    },
    "id": "futMbdVXGz6F",
    "outputId": "6de9777f-7ca8-47d1-b6d4-972b7240aea7"
   },
   "outputs": [
    {
     "name": "stdout",
     "output_type": "stream",
     "text": [
      "Batch data size: (32, 299, 299, 3)\n",
      "Batch label size: (32, 422)\n",
      "Generator length: 2532\n"
     ]
    }
   ],
   "source": [
    "for data_batch, labels_batch in train_generator:\n",
    "    print('Batch data size:', data_batch.shape)\n",
    "    print('Batch label size:', labels_batch.shape)\n",
    "    break\n",
    "print('Generator length:', len(train_generator))"
   ]
  },
  {
   "cell_type": "markdown",
   "metadata": {},
   "source": [
    "## Set Checkpoint Path"
   ]
  },
  {
   "cell_type": "code",
   "execution_count": null,
   "metadata": {
    "colab": {
     "base_uri": "https://localhost:8080/"
    },
    "executionInfo": {
     "elapsed": 260,
     "status": "ok",
     "timestamp": 1653638298113,
     "user": {
      "displayName": "김민엽",
      "userId": "11235644958609629845"
     },
     "user_tz": -540
    },
    "id": "7rBRN2hNGz6F",
    "outputId": "6203d364-ad51-4d2f-8c0a-ae2b6180aefc"
   },
   "outputs": [],
   "source": [
    "from datetime import datetime\n",
    "now = datetime.now().strftime('%y%m%d_%H%M%S')\n",
    "\n",
    "model_dir = os.path.join(root_dir, 'model')\n",
    "save_dir = os.path.join(model_dir, now)\n",
    "\n",
    "if not(os.path.isdir(model_dir)):\n",
    "    os.mkdir(model_dir)\n",
    "os.mkdir(save_dir)\n",
    "\n",
    "model_path = save_dir + '/{epoch:02d}-{val_accuracy:.4f}.hdf5'"
   ]
  },
  {
   "cell_type": "markdown",
   "metadata": {},
   "source": [
    "## Add Output Layer"
   ]
  },
  {
   "cell_type": "code",
   "execution_count": null,
   "metadata": {
    "colab": {
     "base_uri": "https://localhost:8080/"
    },
    "executionInfo": {
     "elapsed": 7074,
     "status": "ok",
     "timestamp": 1653638309843,
     "user": {
      "displayName": "김민엽",
      "userId": "11235644958609629845"
     },
     "user_tz": -540
    },
    "id": "hHP0mpUEiRD8",
    "outputId": "2c930340-04cc-4dac-ac93-bea888c88861"
   },
   "outputs": [
    {
     "name": "stdout",
     "output_type": "stream",
     "text": [
      "Downloading data from https://storage.googleapis.com/tensorflow/keras-applications/inception_v3/inception_v3_weights_tf_dim_ordering_tf_kernels_notop.h5\n",
      "87916544/87910968 [==============================] - 0s 0us/step\n",
      "87924736/87910968 [==============================] - 0s 0us/step\n"
     ]
    }
   ],
   "source": [
    "import sys\n",
    "sys.setrecursionlimit(10000)\n",
    "base_model = InceptionV3(weights='imagenet', include_top=False, input_tensor=Input(shape=(299, 299, 3)))\n",
    "# base_model.trainable = False\n",
    "x = base_model.output\n",
    "x = AveragePooling2D(pool_size=(8, 8))(x)\n",
    "x = Dropout(.2)(x)\n",
    "x = Flatten()(x)\n",
    "x = Dropout(.2)(x)\n",
    "predictions = layers.Dense(422,kernel_initializer='glorot_uniform', \n",
    "                        kernel_regularizer=regularizers.l2(.0005), activation='softmax')(x)\n",
    "model = Model(inputs=base_model.input, outputs=predictions)"
   ]
  },
  {
   "cell_type": "markdown",
   "metadata": {},
   "source": [
    "## Load Checkpoint"
   ]
  },
  {
   "cell_type": "code",
   "execution_count": null,
   "metadata": {
    "id": "aqHJaQlgpFrX"
   },
   "outputs": [],
   "source": [
    "# from tensorflow.keras import models\n",
    "# model = models.load_model('./04-0.4752.hdf5')"
   ]
  },
  {
   "cell_type": "code",
   "execution_count": null,
   "metadata": {
    "id": "hphZD0F3pBp1"
   },
   "outputs": [],
   "source": [
    "model.compile(optimizer=Adam(learning_rate=0.0005), loss='categorical_crossentropy', metrics=['accuracy'])\n",
    "early_stopping = EarlyStopping(monitor='val_loss', patience=3)\n",
    "cb_checkpoint = ModelCheckpoint(filepath=model_path, monitor='val_accuracy',\n",
    "                                verbose=1, save_best_only=True)"
   ]
  },
  {
   "cell_type": "markdown",
   "metadata": {},
   "source": [
    "## Train"
   ]
  },
  {
   "cell_type": "code",
   "execution_count": null,
   "metadata": {
    "colab": {
     "base_uri": "https://localhost:8080/"
    },
    "executionInfo": {
     "elapsed": 5096396,
     "status": "ok",
     "timestamp": 1653650829723,
     "user": {
      "displayName": "김민엽",
      "userId": "11235644958609629845"
     },
     "user_tz": -540
    },
    "id": "jMbxSwGjiREC",
    "outputId": "0c9b107e-d77c-4723-abfa-1b632c458146",
    "scrolled": true
   },
   "outputs": [
    {
     "name": "stdout",
     "output_type": "stream",
     "text": [
      "Epoch 1/5\n",
      "2532/2532 [==============================] - ETA: 0s - loss: 5.8183 - accuracy: 0.0126\n",
      "Epoch 1: val_accuracy improved from -inf to 0.02355, saving model to /content/drive/MyDrive/inception/model/220527_075818/01-0.0236.hdf5\n",
      "2532/2532 [==============================] - 2681s 1s/step - loss: 5.8183 - accuracy: 0.0126 - val_loss: 5.6666 - val_accuracy: 0.0236\n",
      "Epoch 2/5\n",
      "2532/2532 [==============================] - ETA: 0s - loss: 4.8439 - accuracy: 0.0662\n",
      "Epoch 2: val_accuracy improved from 0.02355 to 0.05650, saving model to /content/drive/MyDrive/inception/model/220527_075818/02-0.0565.hdf5\n",
      "2532/2532 [==============================] - 2476s 978ms/step - loss: 4.8439 - accuracy: 0.0662 - val_loss: 5.5205 - val_accuracy: 0.0565\n",
      "Epoch 3/5\n",
      "2532/2532 [==============================] - ETA: 0s - loss: 4.1458 - accuracy: 0.1524\n",
      "Epoch 3: val_accuracy improved from 0.05650 to 0.16279, saving model to /content/drive/MyDrive/inception/model/220527_075818/03-0.1628.hdf5\n",
      "2532/2532 [==============================] - 2450s 967ms/step - loss: 4.1458 - accuracy: 0.1524 - val_loss: 4.2405 - val_accuracy: 0.1628\n",
      "Epoch 4/5\n",
      "2532/2532 [==============================] - ETA: 0s - loss: 3.6869 - accuracy: 0.2285\n",
      "Epoch 4: val_accuracy improved from 0.16279 to 0.23388, saving model to /content/drive/MyDrive/inception/model/220527_075818/04-0.2339.hdf5\n",
      "2532/2532 [==============================] - 2394s 945ms/step - loss: 3.6869 - accuracy: 0.2285 - val_loss: 3.7667 - val_accuracy: 0.2339\n",
      "Epoch 5/5\n",
      "2532/2532 [==============================] - ETA: 0s - loss: 3.3154 - accuracy: 0.2976\n",
      "Epoch 5: val_accuracy improved from 0.23388 to 0.29327, saving model to /content/drive/MyDrive/inception/model/220527_075818/05-0.2933.hdf5\n",
      "2532/2532 [==============================] - 2428s 959ms/step - loss: 3.3154 - accuracy: 0.2976 - val_loss: 3.3760 - val_accuracy: 0.2933\n"
     ]
    }
   ],
   "source": [
    "# Start with learning rate 0.005\n",
    "history = model.fit(train_generator,\n",
    "                    epochs=5, steps_per_epoch= len(train_generator), \n",
    "                    validation_data = val_generator,\n",
    "                    validation_steps= len(val_generator),\n",
    "                    use_multiprocessing=True,\n",
    "                    callbacks=[cb_checkpoint, early_stopping]\n",
    "                    )"
   ]
  },
  {
   "cell_type": "code",
   "execution_count": null,
   "metadata": {
    "colab": {
     "base_uri": "https://localhost:8080/"
    },
    "id": "jMbxSwGjiREC",
    "outputId": "cc946eec-8e5d-4245-e12e-037510e648ac",
    "scrolled": true
   },
   "outputs": [
    {
     "name": "stdout",
     "output_type": "stream",
     "text": [
      "Epoch 1/5\n",
      "2532/2532 [==============================] - ETA: 0s - loss: 2.8664 - accuracy: 0.3938\n",
      "Epoch 1: val_accuracy improved from -inf to 0.41907, saving model to /content/drive/MyDrive/inception/model/220527_114534/01-0.4191.hdf5\n",
      "2532/2532 [==============================] - 2466s 965ms/step - loss: 2.8664 - accuracy: 0.3938 - val_loss: 2.7278 - val_accuracy: 0.4191\n",
      "Epoch 2/5\n",
      "2532/2532 [==============================] - ETA: 0s - loss: 2.6297 - accuracy: 0.4370\n",
      "Epoch 2: val_accuracy improved from 0.41907 to 0.45270, saving model to /content/drive/MyDrive/inception/model/220527_114534/02-0.4527.hdf5\n",
      "2532/2532 [==============================] - 2470s 975ms/step - loss: 2.6297 - accuracy: 0.4370 - val_loss: 2.5538 - val_accuracy: 0.4527\n",
      "Epoch 3/5\n",
      "2532/2532 [==============================] - ETA: 0s - loss: 2.4562 - accuracy: 0.4699\n",
      "Epoch 3: val_accuracy improved from 0.45270 to 0.47702, saving model to /content/drive/MyDrive/inception/model/220527_114534/03-0.4770.hdf5\n",
      "2532/2532 [==============================] - 2445s 965ms/step - loss: 2.4562 - accuracy: 0.4699 - val_loss: 2.4203 - val_accuracy: 0.4770\n",
      "Epoch 4/5\n",
      "1408/2532 [===============>..............] - ETA: 16:36 - loss: 2.2949 - accuracy: 0.5056"
     ]
    }
   ],
   "source": [
    "# After 5epoch, change learning rate to 0.0005\n",
    "history = model.fit(train_generator,\n",
    "                    epochs=5, steps_per_epoch= len(train_generator), \n",
    "                    validation_data = val_generator,\n",
    "                    validation_steps= len(val_generator),\n",
    "                    use_multiprocessing=True,\n",
    "                    callbacks=[cb_checkpoint, early_stopping]\n",
    "                    )"
   ]
  },
  {
   "cell_type": "code",
   "execution_count": null,
   "metadata": {
    "colab": {
     "base_uri": "https://localhost:8080/"
    },
    "id": "jMbxSwGjiREC",
    "outputId": "084013c1-35f5-4e86-e3df-c5e0c708725d",
    "scrolled": true
   },
   "outputs": [
    {
     "name": "stdout",
     "output_type": "stream",
     "text": [
      "Epoch 1/5\n",
      "2532/2532 [==============================] - ETA: 0s - loss: 2.3404 - accuracy: 0.5042\n",
      "Epoch 1: val_accuracy improved from -inf to 0.51333, saving model to /content/drive/MyDrive/Final/inception/model/220528_043655/01-0.5133.hdf5\n",
      "2532/2532 [==============================] - 2473s 966ms/step - loss: 2.3404 - accuracy: 0.5042 - val_loss: 2.2561 - val_accuracy: 0.5133\n",
      "Epoch 2/5\n",
      "2532/2532 [==============================] - ETA: 0s - loss: 2.1862 - accuracy: 0.5314\n",
      "Epoch 2: val_accuracy did not improve from 0.51333\n",
      "2532/2532 [==============================] - 2405s 950ms/step - loss: 2.1862 - accuracy: 0.5314 - val_loss: 2.4653 - val_accuracy: 0.4768\n",
      "Epoch 3/5\n",
      "2532/2532 [==============================] - ETA: 0s - loss: 2.0805 - accuracy: 0.5525\n",
      "Epoch 3: val_accuracy improved from 0.51333 to 0.55512, saving model to /content/drive/MyDrive/Final/inception/model/220528_043655/03-0.5551.hdf5\n",
      "2532/2532 [==============================] - 2462s 972ms/step - loss: 2.0805 - accuracy: 0.5525 - val_loss: 2.0630 - val_accuracy: 0.5551\n",
      "Epoch 4/5\n",
      "2532/2532 [==============================] - ETA: 0s - loss: 1.9696 - accuracy: 0.5740\n",
      "Epoch 4: val_accuracy improved from 0.55512 to 0.56987, saving model to /content/drive/MyDrive/Final/inception/model/220528_043655/04-0.5699.hdf5\n",
      "2532/2532 [==============================] - 2419s 955ms/step - loss: 1.9696 - accuracy: 0.5740 - val_loss: 2.0083 - val_accuracy: 0.5699\n",
      "Epoch 5/5\n",
      "1482/2532 [================>.............] - ETA: 15:09 - loss: 1.8713 - accuracy: 0.5947"
     ]
    }
   ],
   "source": [
    "history = model.fit(train_generator,\n",
    "                    epochs=5, steps_per_epoch= len(train_generator), \n",
    "                    validation_data = val_generator,\n",
    "                    validation_steps= len(val_generator),\n",
    "                    use_multiprocessing=True,\n",
    "                    callbacks=[cb_checkpoint, early_stopping]\n",
    "                    )"
   ]
  },
  {
   "cell_type": "code",
   "execution_count": null,
   "metadata": {
    "colab": {
     "base_uri": "https://localhost:8080/"
    },
    "id": "jMbxSwGjiREC",
    "outputId": "1233eaf4-4959-4a9b-9b11-d7415a48dbc0",
    "scrolled": true
   },
   "outputs": [
    {
     "name": "stdout",
     "output_type": "stream",
     "text": [
      "Epoch 1/10\n",
      "2532/2532 [==============================] - ETA: 0s - loss: 1.9094 - accuracy: 0.5964\n",
      "Epoch 1: val_accuracy improved from -inf to 0.55478, saving model to /content/drive/MyDrive/model/220528_092640/01-0.5548.hdf5\n",
      "2532/2532 [==============================] - 2470s 966ms/step - loss: 1.9094 - accuracy: 0.5964 - val_loss: 2.1284 - val_accuracy: 0.5548\n",
      "Epoch 2/10\n",
      "2532/2532 [==============================] - ETA: 0s - loss: 1.8003 - accuracy: 0.6166\n",
      "Epoch 2: val_accuracy improved from 0.55478 to 0.59874, saving model to /content/drive/MyDrive/model/220528_092640/02-0.5987.hdf5\n",
      "2532/2532 [==============================] - 2407s 950ms/step - loss: 1.8003 - accuracy: 0.6166 - val_loss: 1.8941 - val_accuracy: 0.5987\n",
      "Epoch 3/10\n",
      "2532/2532 [==============================] - ETA: 0s - loss: 1.7182 - accuracy: 0.6352\n",
      "Epoch 3: val_accuracy improved from 0.59874 to 0.61422, saving model to /content/drive/MyDrive/model/220528_092640/03-0.6142.hdf5\n",
      "2532/2532 [==============================] - 2404s 949ms/step - loss: 1.7182 - accuracy: 0.6352 - val_loss: 1.8321 - val_accuracy: 0.6142\n",
      "Epoch 4/10\n",
      "2532/2532 [==============================] - ETA: 0s - loss: 1.6353 - accuracy: 0.6523\n",
      "Epoch 4: val_accuracy did not improve from 0.61422\n",
      "2532/2532 [==============================] - 2396s 946ms/step - loss: 1.6353 - accuracy: 0.6523 - val_loss: 1.9517 - val_accuracy: 0.5913\n",
      "Epoch 5/10\n",
      "2532/2532 [==============================] - ETA: 0s - loss: 1.5895 - accuracy: 0.6622\n",
      "Epoch 5: val_accuracy did not improve from 0.61422\n",
      "2532/2532 [==============================] - 2380s 940ms/step - loss: 1.5895 - accuracy: 0.6622 - val_loss: 1.8986 - val_accuracy: 0.6087\n",
      "Epoch 6/10\n",
      "  46/2532 [..............................] - ETA: 36:37 - loss: 1.4619 - accuracy: 0.6875"
     ]
    }
   ],
   "source": [
    "history = model.fit(train_generator,\n",
    "                    epochs=10, steps_per_epoch= len(train_generator), \n",
    "                    validation_data = val_generator,\n",
    "                    validation_steps= len(val_generator),\n",
    "                    use_multiprocessing=True,\n",
    "                    callbacks=[cb_checkpoint, early_stopping]\n",
    "                    )"
   ]
  },
  {
   "cell_type": "code",
   "execution_count": null,
   "metadata": {
    "colab": {
     "base_uri": "https://localhost:8080/"
    },
    "executionInfo": {
     "elapsed": 12081025,
     "status": "ok",
     "timestamp": 1653805908064,
     "user": {
      "displayName": "김민엽",
      "userId": "11235644958609629845"
     },
     "user_tz": -540
    },
    "id": "hOUPHiwpUgPI",
    "outputId": "12206143-3d7d-43c7-c1b0-64c6f80ff28e"
   },
   "outputs": [
    {
     "name": "stdout",
     "output_type": "stream",
     "text": [
      "Epoch 1/5\n",
      "2532/2532 [==============================] - ETA: 0s - loss: 1.6675 - accuracy: 0.6506\n",
      "Epoch 1: val_accuracy improved from -inf to 0.59190, saving model to /content/drive/MyDrive/inception/model/220529_031005/01-0.5919.hdf5\n",
      "2532/2532 [==============================] - 2480s 970ms/step - loss: 1.6675 - accuracy: 0.6506 - val_loss: 1.9530 - val_accuracy: 0.5919\n",
      "Epoch 2/5\n",
      "2532/2532 [==============================] - ETA: 0s - loss: 1.5833 - accuracy: 0.6659\n",
      "Epoch 2: val_accuracy did not improve from 0.59190\n",
      "2532/2532 [==============================] - 2406s 950ms/step - loss: 1.5833 - accuracy: 0.6659 - val_loss: 2.1770 - val_accuracy: 0.5532\n",
      "Epoch 3/5\n",
      "2532/2532 [==============================] - ETA: 0s - loss: 1.5073 - accuracy: 0.6829\n",
      "Epoch 3: val_accuracy improved from 0.59190 to 0.62969, saving model to /content/drive/MyDrive/inception/model/220529_031005/03-0.6297.hdf5\n",
      "2532/2532 [==============================] - 2374s 937ms/step - loss: 1.5073 - accuracy: 0.6829 - val_loss: 1.7598 - val_accuracy: 0.6297\n",
      "Epoch 4/5\n",
      "2532/2532 [==============================] - ETA: 0s - loss: 1.4955 - accuracy: 0.6837\n",
      "Epoch 4: val_accuracy did not improve from 0.62969\n",
      "2532/2532 [==============================] - 2382s 940ms/step - loss: 1.4955 - accuracy: 0.6837 - val_loss: 1.9594 - val_accuracy: 0.5991\n",
      "Epoch 5/5\n",
      "2532/2532 [==============================] - ETA: 0s - loss: 1.4202 - accuracy: 0.6998\n",
      "Epoch 5: val_accuracy improved from 0.62969 to 0.64389, saving model to /content/drive/MyDrive/inception/model/220529_031005/05-0.6439.hdf5\n",
      "2532/2532 [==============================] - 2398s 947ms/step - loss: 1.4202 - accuracy: 0.6998 - val_loss: 1.7687 - val_accuracy: 0.6439\n"
     ]
    }
   ],
   "source": [
    "history = model.fit(train_generator,\n",
    "                    epochs=5, steps_per_epoch= len(train_generator), \n",
    "                    validation_data = val_generator,\n",
    "                    validation_steps= len(val_generator),\n",
    "                    use_multiprocessing=True,\n",
    "                    callbacks=[cb_checkpoint, early_stopping]\n",
    "                    )"
   ]
  },
  {
   "cell_type": "code",
   "execution_count": null,
   "metadata": {
    "colab": {
     "base_uri": "https://localhost:8080/"
    },
    "id": "GeG9rT1JYj00",
    "outputId": "b8d9d81e-31c0-4a1c-e2ce-226313e8598c"
   },
   "outputs": [
    {
     "name": "stdout",
     "output_type": "stream",
     "text": [
      "Epoch 1/5\n",
      "2532/2532 [==============================] - ETA: 0s - loss: 1.3692 - accuracy: 0.7203\n",
      "Epoch 1: val_accuracy improved from -inf to 0.62200, saving model to /content/drive/MyDrive/Final/inception/model/220529_070421/01-0.6220.hdf5\n",
      "2532/2532 [==============================] - 2534s 992ms/step - loss: 1.3692 - accuracy: 0.7203 - val_loss: 1.9107 - val_accuracy: 0.6220\n",
      "Epoch 2/5\n",
      "2532/2532 [==============================] - ETA: 0s - loss: 1.3035 - accuracy: 0.7320\n",
      "Epoch 2: val_accuracy improved from 0.62200 to 0.64372, saving model to /content/drive/MyDrive/Final/inception/model/220529_070421/02-0.6437.hdf5\n",
      "2532/2532 [==============================] - 2465s 973ms/step - loss: 1.3035 - accuracy: 0.7320 - val_loss: 1.7450 - val_accuracy: 0.6437\n",
      "Epoch 3/5\n",
      "2532/2532 [==============================] - ETA: 0s - loss: 1.2527 - accuracy: 0.7410\n",
      "Epoch 3: val_accuracy did not improve from 0.64372\n",
      "2532/2532 [==============================] - 2470s 975ms/step - loss: 1.2527 - accuracy: 0.7410 - val_loss: 1.8237 - val_accuracy: 0.6331\n",
      "Epoch 4/5\n",
      "2504/2532 [============================>.] - ETA: 24s - loss: 1.2333 - accuracy: 0.7455"
     ]
    }
   ],
   "source": [
    "history = model.fit(train_generator,\n",
    "                    epochs=5, steps_per_epoch= len(train_generator), \n",
    "                    validation_data = val_generator,\n",
    "                    validation_steps= len(val_generator),\n",
    "                    use_multiprocessing=True,\n",
    "                    callbacks=[cb_checkpoint, early_stopping]\n",
    "                    )"
   ]
  },
  {
   "cell_type": "code",
   "execution_count": null,
   "metadata": {
    "colab": {
     "base_uri": "https://localhost:8080/"
    },
    "id": "jMbxSwGjiREC",
    "outputId": "0a92a252-f445-47a1-d484-c0e4b4fbbeda",
    "scrolled": true
   },
   "outputs": [
    {
     "name": "stdout",
     "output_type": "stream",
     "text": [
      "Epoch 1/7\n",
      "2532/2532 [==============================] - ETA: 0s - loss: 0.9665 - accuracy: 0.8224\n",
      "Epoch 1: val_accuracy improved from -inf to 0.71251, saving model to /content/drive/MyDrive/model/220530_003956/01-0.7125.hdf5\n",
      "2532/2532 [==============================] - 2444s 956ms/step - loss: 0.9665 - accuracy: 0.8224 - val_loss: 1.4090 - val_accuracy: 0.7125\n",
      "Epoch 2/7\n",
      "2532/2532 [==============================] - ETA: 0s - loss: 0.8647 - accuracy: 0.8459\n",
      "Epoch 2: val_accuracy improved from 0.71251 to 0.71319, saving model to /content/drive/MyDrive/model/220530_003956/02-0.7132.hdf5\n",
      "2532/2532 [==============================] - 2407s 951ms/step - loss: 0.8647 - accuracy: 0.8459 - val_loss: 1.4091 - val_accuracy: 0.7132\n",
      "Epoch 3/7\n",
      "2532/2532 [==============================] - ETA: 0s - loss: 0.8632 - accuracy: 0.8384\n",
      "Epoch 3: val_accuracy improved from 0.71319 to 0.71625, saving model to /content/drive/MyDrive/model/220530_003956/03-0.7163.hdf5\n",
      "2532/2532 [==============================] - 2399s 947ms/step - loss: 0.8632 - accuracy: 0.8384 - val_loss: 1.3927 - val_accuracy: 0.7163\n",
      "Epoch 4/7\n",
      "2532/2532 [==============================] - ETA: 0s - loss: 0.8469 - accuracy: 0.8389\n",
      "Epoch 4: val_accuracy improved from 0.71625 to 0.72165, saving model to /content/drive/MyDrive/model/220530_003956/04-0.7217.hdf5\n",
      "2532/2532 [==============================] - 2404s 949ms/step - loss: 0.8469 - accuracy: 0.8389 - val_loss: 1.3617 - val_accuracy: 0.7217\n",
      "Epoch 5/7\n",
      "2532/2532 [==============================] - ETA: 0s - loss: 0.8225 - accuracy: 0.8436\n",
      "Epoch 5: val_accuracy improved from 0.72165 to 0.72301, saving model to /content/drive/MyDrive/model/220530_003956/05-0.7230.hdf5\n",
      "2532/2532 [==============================] - 2397s 947ms/step - loss: 0.8225 - accuracy: 0.8436 - val_loss: 1.3517 - val_accuracy: 0.7230\n",
      "Epoch 6/7\n",
      "2532/2532 [==============================] - ETA: 0s - loss: 0.7974 - accuracy: 0.8490\n",
      "Epoch 6: val_accuracy did not improve from 0.72301\n",
      "2532/2532 [==============================] - 2362s 933ms/step - loss: 0.7974 - accuracy: 0.8490 - val_loss: 1.4027 - val_accuracy: 0.7133\n",
      "Epoch 7/7\n",
      " 222/2532 [=>............................] - ETA: 33:21 - loss: 0.7570 - accuracy: 0.8612"
     ]
    }
   ],
   "source": [
    "# After slow down, change learning rate to 0.0001\n",
    "history = model.fit(train_generator,\n",
    "                    epochs=7, steps_per_epoch= len(train_generator), \n",
    "                    validation_data = val_generator,\n",
    "                    validation_steps= len(val_generator),\n",
    "                    use_multiprocessing=True,\n",
    "                    callbacks=[cb_checkpoint, early_stopping]\n",
    "                    )"
   ]
  },
  {
   "cell_type": "code",
   "execution_count": null,
   "metadata": {
    "colab": {
     "base_uri": "https://localhost:8080/"
    },
    "executionInfo": {
     "elapsed": 11992994,
     "status": "ok",
     "timestamp": 1653899016946,
     "user": {
      "displayName": "김민엽",
      "userId": "11235644958609629845"
     },
     "user_tz": -540
    },
    "id": "hOUPHiwpUgPI",
    "outputId": "c8de4098-ec08-407a-b1ed-e1092efcd361"
   },
   "outputs": [
    {
     "name": "stdout",
     "output_type": "stream",
     "text": [
      "Epoch 1/5\n",
      "2532/2532 [==============================] - ETA: 0s - loss: 0.7428 - accuracy: 0.8683\n",
      "Epoch 1: val_accuracy improved from -inf to 0.71817, saving model to /content/drive/MyDrive/inception/model/220530_050333/01-0.7182.hdf5\n",
      "2532/2532 [==============================] - 2445s 956ms/step - loss: 0.7428 - accuracy: 0.8683 - val_loss: 1.3701 - val_accuracy: 0.7182\n",
      "Epoch 2/5\n",
      "2532/2532 [==============================] - ETA: 0s - loss: 0.7046 - accuracy: 0.8758\n",
      "Epoch 2: val_accuracy improved from 0.71817 to 0.72501, saving model to /content/drive/MyDrive/inception/model/220530_050333/02-0.7250.hdf5\n",
      "2532/2532 [==============================] - 2372s 937ms/step - loss: 0.7046 - accuracy: 0.8758 - val_loss: 1.3516 - val_accuracy: 0.7250\n",
      "Epoch 3/5\n",
      "2532/2532 [==============================] - ETA: 0s - loss: 0.7146 - accuracy: 0.8703\n",
      "Epoch 3: val_accuracy improved from 0.72501 to 0.72527, saving model to /content/drive/MyDrive/inception/model/220530_050333/03-0.7253.hdf5\n",
      "2532/2532 [==============================] - 2371s 936ms/step - loss: 0.7146 - accuracy: 0.8703 - val_loss: 1.3428 - val_accuracy: 0.7253\n",
      "Epoch 4/5\n",
      "2532/2532 [==============================] - ETA: 0s - loss: 0.7091 - accuracy: 0.8696\n",
      "Epoch 4: val_accuracy did not improve from 0.72527\n",
      "2532/2532 [==============================] - 2366s 934ms/step - loss: 0.7091 - accuracy: 0.8696 - val_loss: 1.3604 - val_accuracy: 0.7215\n",
      "Epoch 5/5\n",
      "2532/2532 [==============================] - ETA: 0s - loss: 0.6942 - accuracy: 0.8720\n",
      "Epoch 5: val_accuracy improved from 0.72527 to 0.72752, saving model to /content/drive/MyDrive/inception/model/220530_050333/05-0.7275.hdf5\n",
      "2532/2532 [==============================] - 2394s 945ms/step - loss: 0.6942 - accuracy: 0.8720 - val_loss: 1.3389 - val_accuracy: 0.7275\n"
     ]
    }
   ],
   "source": [
    "history = model.fit(train_generator,\n",
    "                    epochs=5, steps_per_epoch= len(train_generator), \n",
    "                    validation_data = val_generator,\n",
    "                    validation_steps= len(val_generator),\n",
    "                    use_multiprocessing=True,\n",
    "                    callbacks=[cb_checkpoint, early_stopping]\n",
    "                    )"
   ]
  },
  {
   "cell_type": "code",
   "execution_count": null,
   "metadata": {
    "colab": {
     "base_uri": "https://localhost:8080/"
    },
    "id": "O72I_aLg8sVL",
    "outputId": "13573591-27e7-40bd-ab16-a9bd85e30447"
   },
   "outputs": [
    {
     "name": "stdout",
     "output_type": "stream",
     "text": [
      "Epoch 1/5\n",
      "2532/2532 [==============================] - ETA: 0s - loss: 0.6898 - accuracy: 0.8718\n",
      "Epoch 1: val_accuracy did not improve from 0.72752\n",
      "2532/2532 [==============================] - 2408s 951ms/step - loss: 0.6898 - accuracy: 0.8718 - val_loss: 1.3749 - val_accuracy: 0.7191\n",
      "Epoch 2/5\n",
      "2532/2532 [==============================] - ETA: 0s - loss: 0.6689 - accuracy: 0.8766\n",
      "Epoch 2: val_accuracy improved from 0.72752 to 0.72948, saving model to /content/drive/MyDrive/inception/model/220530_050333/02-0.7295.hdf5\n",
      "2532/2532 [==============================] - 2341s 924ms/step - loss: 0.6689 - accuracy: 0.8766 - val_loss: 1.3278 - val_accuracy: 0.7295\n",
      "Epoch 3/5\n",
      "2532/2532 [==============================] - ETA: 0s - loss: 0.6565 - accuracy: 0.8789\n",
      "Epoch 3: val_accuracy did not improve from 0.72948\n",
      "2532/2532 [==============================] - 2358s 931ms/step - loss: 0.6565 - accuracy: 0.8789 - val_loss: 1.3403 - val_accuracy: 0.7254\n",
      "Epoch 4/5\n",
      "2532/2532 [==============================] - ETA: 0s - loss: 0.6360 - accuracy: 0.8840\n",
      "Epoch 4: val_accuracy did not improve from 0.72948\n",
      "2532/2532 [==============================] - 2421s 956ms/step - loss: 0.6360 - accuracy: 0.8840 - val_loss: 1.3390 - val_accuracy: 0.7247\n",
      "Epoch 5/5\n",
      " 641/2532 [======>.......................] - ETA: 27:34 - loss: 0.6152 - accuracy: 0.8935"
     ]
    }
   ],
   "source": [
    "history = model.fit(train_generator,\n",
    "                    epochs=5, steps_per_epoch= len(train_generator), \n",
    "                    validation_data = val_generator,\n",
    "                    validation_steps= len(val_generator),\n",
    "                    use_multiprocessing=True,\n",
    "                    callbacks=[cb_checkpoint, early_stopping]\n",
    "                    )"
   ]
  },
  {
   "cell_type": "code",
   "execution_count": null,
   "metadata": {
    "colab": {
     "base_uri": "https://localhost:8080/"
    },
    "id": "jMbxSwGjiREC",
    "outputId": "16c0b6d4-8809-4836-9d0e-d8cb0789aeb0",
    "scrolled": true
   },
   "outputs": [
    {
     "name": "stdout",
     "output_type": "stream",
     "text": [
      "Epoch 1/5\n",
      "2532/2532 [==============================] - ETA: 0s - loss: 0.6040 - accuracy: 0.8981\n",
      "Epoch 1: val_accuracy improved from -inf to 0.71829, saving model to /content/drive/MyDrive/Final/inception/model/220530_113047/01-0.7183.hdf5\n",
      "2532/2532 [==============================] - 2483s 971ms/step - loss: 0.6040 - accuracy: 0.8981 - val_loss: 1.3830 - val_accuracy: 0.7183\n",
      "Epoch 2/5\n",
      "2532/2532 [==============================] - ETA: 0s - loss: 0.5817 - accuracy: 0.9024\n",
      "Epoch 2: val_accuracy improved from 0.71829 to 0.72374, saving model to /content/drive/MyDrive/Final/inception/model/220530_113047/02-0.7237.hdf5\n",
      "2532/2532 [==============================] - 2429s 959ms/step - loss: 0.5817 - accuracy: 0.9024 - val_loss: 1.3613 - val_accuracy: 0.7237\n",
      "Epoch 3/5\n",
      "2532/2532 [==============================] - ETA: 0s - loss: 0.6296 - accuracy: 0.8849\n",
      "Epoch 3: val_accuracy improved from 0.72374 to 0.73254, saving model to /content/drive/MyDrive/Final/inception/model/220530_113047/03-0.7325.hdf5\n",
      "2532/2532 [==============================] - 2449s 967ms/step - loss: 0.6296 - accuracy: 0.8849 - val_loss: 1.3358 - val_accuracy: 0.7325\n",
      "Epoch 4/5\n",
      "1999/2532 [======================>.......] - ETA: 7:57 - loss: 0.6067 - accuracy: 0.8895"
     ]
    }
   ],
   "source": [
    "history = model.fit(train_generator,\n",
    "                    epochs=5, steps_per_epoch= len(train_generator), \n",
    "                    validation_data = val_generator,\n",
    "                    validation_steps= len(val_generator),\n",
    "                    use_multiprocessing=True,\n",
    "                    callbacks=[cb_checkpoint, early_stopping]\n",
    "                    )"
   ]
  },
  {
   "cell_type": "markdown",
   "metadata": {},
   "source": [
    "## Show History"
   ]
  },
  {
   "cell_type": "code",
   "execution_count": null,
   "metadata": {
    "colab": {
     "base_uri": "https://localhost:8080/"
    },
    "executionInfo": {
     "elapsed": 17,
     "status": "ok",
     "timestamp": 1653650829745,
     "user": {
      "displayName": "김민엽",
      "userId": "11235644958609629845"
     },
     "user_tz": -540
    },
    "id": "SI1mQTuBBBXW",
    "outputId": "9d2fd56a-ce68-4c37-bb5c-e23c61883efa"
   },
   "outputs": [],
   "source": [
    "history.history"
   ]
  },
  {
   "cell_type": "code",
   "execution_count": 1,
   "metadata": {},
   "outputs": [],
   "source": [
    "history = dict()\n",
    "history['accuracy'] = [0.0126, 0.0662, 0.1524, 0.2285, 0.2976, 0.3938, 0.4370, 0.4699, 0.5042, 0.5314, 0.5525, 0.5740, 0.5964, 0.6166, 0.6352, 0.6506, 0.6659, 0.6829, 0.6837, 0.6998, 0.7203, 0.7320, 0.7410, 0.8224, 0.8459, 0.8384, 0.8389, 0.8436, 0.8683, 0.8758, 0.8703, 0.8696, 0.8720, 0.8718, 0.8766, 0.8981, 0.9024, 0.8849]\n",
    "history['val_accuracy'] = [0.0236, 0.0565, 0.1628, 0.2339, 0.2933, 0.4191, 0.4527, 0.4770, 0.5133, 0.4768, 0.5551, 0.5699, 0.5548, 0.5987, 0.6142, 0.5919, 0.5532, 0.6297, 0.5991, 0.6439, 0.6220, 0.6437, 0.6331, 0.7125, 0.7132, 0.7163, 0.7217, 0.7230, 0.7182, 0.7250, 0.7253, 0.7215, 0.7275, 0.7191, 0.7295, 0.7183, 0.7237, 0.7325]\n",
    "history['loss'] = [5.8183, 4.8439, 4.1458, 3.6869, 3.3154, 2.8664, 2.6297, 2.4562, 2.3404, 2.1862, 2.0805, 1.9696, 1.9094, 1.8003, 1.7182, 1.6675, 1.5833, 1.5073, 1.4955, 1.4202, 1.3692, 1.3035, 1.2527, 0.9665, 0.8647, 0.8632, 0.8469, 0.8225, 0.7428, 0.7046, 0.7146, 0.7091, 0.6942, 0.6898, 0.6689, 0.6040, 0.5817, 0.6296]\n",
    "history['val_loss'] = [5.6666, 5.5205, 4.2405, 3.7667, 3.3760, 2.7278, 2.5538, 2.4203, 2.2561, 2.4653, 2.0630, 2.0083, 2.1284, 1.8941, 1.8321, 1.9530, 2.1770, 1.7598, 1.9594, 1.7687, 1.9107, 1.7450, 1.8237, 1.4090, 1.4091, 1.3927, 1.3617, 1.3517, 1.3701, 1.3516, 1.3428, 1.3604, 1.3389, 1.3749, 1.3278, 1.3830, 1.3613, 1.3358]"
   ]
  },
  {
   "cell_type": "code",
   "execution_count": 2,
   "metadata": {},
   "outputs": [
    {
     "data": {
      "text/html": [
       "<div>\n",
       "<style scoped>\n",
       "    .dataframe tbody tr th:only-of-type {\n",
       "        vertical-align: middle;\n",
       "    }\n",
       "\n",
       "    .dataframe tbody tr th {\n",
       "        vertical-align: top;\n",
       "    }\n",
       "\n",
       "    .dataframe thead th {\n",
       "        text-align: right;\n",
       "    }\n",
       "</style>\n",
       "<table border=\"1\" class=\"dataframe\">\n",
       "  <thead>\n",
       "    <tr style=\"text-align: right;\">\n",
       "      <th></th>\n",
       "      <th>accuracy</th>\n",
       "      <th>val_accuracy</th>\n",
       "      <th>loss</th>\n",
       "      <th>val_loss</th>\n",
       "    </tr>\n",
       "  </thead>\n",
       "  <tbody>\n",
       "    <tr>\n",
       "      <th>0</th>\n",
       "      <td>0.0126</td>\n",
       "      <td>0.0236</td>\n",
       "      <td>5.8183</td>\n",
       "      <td>5.6666</td>\n",
       "    </tr>\n",
       "    <tr>\n",
       "      <th>1</th>\n",
       "      <td>0.0662</td>\n",
       "      <td>0.0565</td>\n",
       "      <td>4.8439</td>\n",
       "      <td>5.5205</td>\n",
       "    </tr>\n",
       "    <tr>\n",
       "      <th>2</th>\n",
       "      <td>0.1524</td>\n",
       "      <td>0.1628</td>\n",
       "      <td>4.1458</td>\n",
       "      <td>4.2405</td>\n",
       "    </tr>\n",
       "    <tr>\n",
       "      <th>3</th>\n",
       "      <td>0.2285</td>\n",
       "      <td>0.2339</td>\n",
       "      <td>3.6869</td>\n",
       "      <td>3.7667</td>\n",
       "    </tr>\n",
       "    <tr>\n",
       "      <th>4</th>\n",
       "      <td>0.2976</td>\n",
       "      <td>0.2933</td>\n",
       "      <td>3.3154</td>\n",
       "      <td>3.3760</td>\n",
       "    </tr>\n",
       "    <tr>\n",
       "      <th>5</th>\n",
       "      <td>0.3938</td>\n",
       "      <td>0.4191</td>\n",
       "      <td>2.8664</td>\n",
       "      <td>2.7278</td>\n",
       "    </tr>\n",
       "    <tr>\n",
       "      <th>6</th>\n",
       "      <td>0.4370</td>\n",
       "      <td>0.4527</td>\n",
       "      <td>2.6297</td>\n",
       "      <td>2.5538</td>\n",
       "    </tr>\n",
       "    <tr>\n",
       "      <th>7</th>\n",
       "      <td>0.4699</td>\n",
       "      <td>0.4770</td>\n",
       "      <td>2.4562</td>\n",
       "      <td>2.4203</td>\n",
       "    </tr>\n",
       "    <tr>\n",
       "      <th>8</th>\n",
       "      <td>0.5042</td>\n",
       "      <td>0.5133</td>\n",
       "      <td>2.3404</td>\n",
       "      <td>2.2561</td>\n",
       "    </tr>\n",
       "    <tr>\n",
       "      <th>9</th>\n",
       "      <td>0.5314</td>\n",
       "      <td>0.4768</td>\n",
       "      <td>2.1862</td>\n",
       "      <td>2.4653</td>\n",
       "    </tr>\n",
       "    <tr>\n",
       "      <th>10</th>\n",
       "      <td>0.5525</td>\n",
       "      <td>0.5551</td>\n",
       "      <td>2.0805</td>\n",
       "      <td>2.0630</td>\n",
       "    </tr>\n",
       "    <tr>\n",
       "      <th>11</th>\n",
       "      <td>0.5740</td>\n",
       "      <td>0.5699</td>\n",
       "      <td>1.9696</td>\n",
       "      <td>2.0083</td>\n",
       "    </tr>\n",
       "    <tr>\n",
       "      <th>12</th>\n",
       "      <td>0.5964</td>\n",
       "      <td>0.5548</td>\n",
       "      <td>1.9094</td>\n",
       "      <td>2.1284</td>\n",
       "    </tr>\n",
       "    <tr>\n",
       "      <th>13</th>\n",
       "      <td>0.6166</td>\n",
       "      <td>0.5987</td>\n",
       "      <td>1.8003</td>\n",
       "      <td>1.8941</td>\n",
       "    </tr>\n",
       "    <tr>\n",
       "      <th>14</th>\n",
       "      <td>0.6352</td>\n",
       "      <td>0.6142</td>\n",
       "      <td>1.7182</td>\n",
       "      <td>1.8321</td>\n",
       "    </tr>\n",
       "    <tr>\n",
       "      <th>15</th>\n",
       "      <td>0.6506</td>\n",
       "      <td>0.5919</td>\n",
       "      <td>1.6675</td>\n",
       "      <td>1.9530</td>\n",
       "    </tr>\n",
       "    <tr>\n",
       "      <th>16</th>\n",
       "      <td>0.6659</td>\n",
       "      <td>0.5532</td>\n",
       "      <td>1.5833</td>\n",
       "      <td>2.1770</td>\n",
       "    </tr>\n",
       "    <tr>\n",
       "      <th>17</th>\n",
       "      <td>0.6829</td>\n",
       "      <td>0.6297</td>\n",
       "      <td>1.5073</td>\n",
       "      <td>1.7598</td>\n",
       "    </tr>\n",
       "    <tr>\n",
       "      <th>18</th>\n",
       "      <td>0.6837</td>\n",
       "      <td>0.5991</td>\n",
       "      <td>1.4955</td>\n",
       "      <td>1.9594</td>\n",
       "    </tr>\n",
       "    <tr>\n",
       "      <th>19</th>\n",
       "      <td>0.6998</td>\n",
       "      <td>0.6439</td>\n",
       "      <td>1.4202</td>\n",
       "      <td>1.7687</td>\n",
       "    </tr>\n",
       "    <tr>\n",
       "      <th>20</th>\n",
       "      <td>0.7203</td>\n",
       "      <td>0.6220</td>\n",
       "      <td>1.3692</td>\n",
       "      <td>1.9107</td>\n",
       "    </tr>\n",
       "    <tr>\n",
       "      <th>21</th>\n",
       "      <td>0.7320</td>\n",
       "      <td>0.6437</td>\n",
       "      <td>1.3035</td>\n",
       "      <td>1.7450</td>\n",
       "    </tr>\n",
       "    <tr>\n",
       "      <th>22</th>\n",
       "      <td>0.7410</td>\n",
       "      <td>0.6331</td>\n",
       "      <td>1.2527</td>\n",
       "      <td>1.8237</td>\n",
       "    </tr>\n",
       "    <tr>\n",
       "      <th>23</th>\n",
       "      <td>0.8224</td>\n",
       "      <td>0.7125</td>\n",
       "      <td>0.9665</td>\n",
       "      <td>1.4090</td>\n",
       "    </tr>\n",
       "    <tr>\n",
       "      <th>24</th>\n",
       "      <td>0.8459</td>\n",
       "      <td>0.7132</td>\n",
       "      <td>0.8647</td>\n",
       "      <td>1.4091</td>\n",
       "    </tr>\n",
       "    <tr>\n",
       "      <th>25</th>\n",
       "      <td>0.8384</td>\n",
       "      <td>0.7163</td>\n",
       "      <td>0.8632</td>\n",
       "      <td>1.3927</td>\n",
       "    </tr>\n",
       "    <tr>\n",
       "      <th>26</th>\n",
       "      <td>0.8389</td>\n",
       "      <td>0.7217</td>\n",
       "      <td>0.8469</td>\n",
       "      <td>1.3617</td>\n",
       "    </tr>\n",
       "    <tr>\n",
       "      <th>27</th>\n",
       "      <td>0.8436</td>\n",
       "      <td>0.7230</td>\n",
       "      <td>0.8225</td>\n",
       "      <td>1.3517</td>\n",
       "    </tr>\n",
       "    <tr>\n",
       "      <th>28</th>\n",
       "      <td>0.8683</td>\n",
       "      <td>0.7182</td>\n",
       "      <td>0.7428</td>\n",
       "      <td>1.3701</td>\n",
       "    </tr>\n",
       "    <tr>\n",
       "      <th>29</th>\n",
       "      <td>0.8758</td>\n",
       "      <td>0.7250</td>\n",
       "      <td>0.7046</td>\n",
       "      <td>1.3516</td>\n",
       "    </tr>\n",
       "    <tr>\n",
       "      <th>30</th>\n",
       "      <td>0.8703</td>\n",
       "      <td>0.7253</td>\n",
       "      <td>0.7146</td>\n",
       "      <td>1.3428</td>\n",
       "    </tr>\n",
       "    <tr>\n",
       "      <th>31</th>\n",
       "      <td>0.8696</td>\n",
       "      <td>0.7215</td>\n",
       "      <td>0.7091</td>\n",
       "      <td>1.3604</td>\n",
       "    </tr>\n",
       "    <tr>\n",
       "      <th>32</th>\n",
       "      <td>0.8720</td>\n",
       "      <td>0.7275</td>\n",
       "      <td>0.6942</td>\n",
       "      <td>1.3389</td>\n",
       "    </tr>\n",
       "    <tr>\n",
       "      <th>33</th>\n",
       "      <td>0.8718</td>\n",
       "      <td>0.7191</td>\n",
       "      <td>0.6898</td>\n",
       "      <td>1.3749</td>\n",
       "    </tr>\n",
       "    <tr>\n",
       "      <th>34</th>\n",
       "      <td>0.8766</td>\n",
       "      <td>0.7295</td>\n",
       "      <td>0.6689</td>\n",
       "      <td>1.3278</td>\n",
       "    </tr>\n",
       "    <tr>\n",
       "      <th>35</th>\n",
       "      <td>0.8981</td>\n",
       "      <td>0.7183</td>\n",
       "      <td>0.6040</td>\n",
       "      <td>1.3830</td>\n",
       "    </tr>\n",
       "    <tr>\n",
       "      <th>36</th>\n",
       "      <td>0.9024</td>\n",
       "      <td>0.7237</td>\n",
       "      <td>0.5817</td>\n",
       "      <td>1.3613</td>\n",
       "    </tr>\n",
       "    <tr>\n",
       "      <th>37</th>\n",
       "      <td>0.8849</td>\n",
       "      <td>0.7325</td>\n",
       "      <td>0.6296</td>\n",
       "      <td>1.3358</td>\n",
       "    </tr>\n",
       "  </tbody>\n",
       "</table>\n",
       "</div>"
      ],
      "text/plain": [
       "    accuracy  val_accuracy    loss  val_loss\n",
       "0     0.0126        0.0236  5.8183    5.6666\n",
       "1     0.0662        0.0565  4.8439    5.5205\n",
       "2     0.1524        0.1628  4.1458    4.2405\n",
       "3     0.2285        0.2339  3.6869    3.7667\n",
       "4     0.2976        0.2933  3.3154    3.3760\n",
       "5     0.3938        0.4191  2.8664    2.7278\n",
       "6     0.4370        0.4527  2.6297    2.5538\n",
       "7     0.4699        0.4770  2.4562    2.4203\n",
       "8     0.5042        0.5133  2.3404    2.2561\n",
       "9     0.5314        0.4768  2.1862    2.4653\n",
       "10    0.5525        0.5551  2.0805    2.0630\n",
       "11    0.5740        0.5699  1.9696    2.0083\n",
       "12    0.5964        0.5548  1.9094    2.1284\n",
       "13    0.6166        0.5987  1.8003    1.8941\n",
       "14    0.6352        0.6142  1.7182    1.8321\n",
       "15    0.6506        0.5919  1.6675    1.9530\n",
       "16    0.6659        0.5532  1.5833    2.1770\n",
       "17    0.6829        0.6297  1.5073    1.7598\n",
       "18    0.6837        0.5991  1.4955    1.9594\n",
       "19    0.6998        0.6439  1.4202    1.7687\n",
       "20    0.7203        0.6220  1.3692    1.9107\n",
       "21    0.7320        0.6437  1.3035    1.7450\n",
       "22    0.7410        0.6331  1.2527    1.8237\n",
       "23    0.8224        0.7125  0.9665    1.4090\n",
       "24    0.8459        0.7132  0.8647    1.4091\n",
       "25    0.8384        0.7163  0.8632    1.3927\n",
       "26    0.8389        0.7217  0.8469    1.3617\n",
       "27    0.8436        0.7230  0.8225    1.3517\n",
       "28    0.8683        0.7182  0.7428    1.3701\n",
       "29    0.8758        0.7250  0.7046    1.3516\n",
       "30    0.8703        0.7253  0.7146    1.3428\n",
       "31    0.8696        0.7215  0.7091    1.3604\n",
       "32    0.8720        0.7275  0.6942    1.3389\n",
       "33    0.8718        0.7191  0.6898    1.3749\n",
       "34    0.8766        0.7295  0.6689    1.3278\n",
       "35    0.8981        0.7183  0.6040    1.3830\n",
       "36    0.9024        0.7237  0.5817    1.3613\n",
       "37    0.8849        0.7325  0.6296    1.3358"
      ]
     },
     "execution_count": 2,
     "metadata": {},
     "output_type": "execute_result"
    }
   ],
   "source": [
    "import pandas as pd\n",
    "\n",
    "pd.DataFrame(history)"
   ]
  },
  {
   "cell_type": "code",
   "execution_count": 3,
   "metadata": {
    "colab": {
     "base_uri": "https://localhost:8080/",
     "height": 545
    },
    "executionInfo": {
     "elapsed": 16,
     "status": "ok",
     "timestamp": 1653650829746,
     "user": {
      "displayName": "김민엽",
      "userId": "11235644958609629845"
     },
     "user_tz": -540
    },
    "id": "n-V_yQHUiREG",
    "outputId": "c373de48-5325-40c4-9d11-2002fc895b3b"
   },
   "outputs": [
    {
     "data": {
      "image/png": "[encoded data removed]",
      "text/plain": [
       "<Figure size 432x288 with 1 Axes>"
      ]
     },
     "metadata": {
      "needs_background": "light"
     },
     "output_type": "display_data"
    },
    {
     "data": {
      "image/png": "[encoded data removed]",
      "text/plain": [
       "<Figure size 432x288 with 1 Axes>"
      ]
     },
     "metadata": {
      "needs_background": "light"
     },
     "output_type": "display_data"
    }
   ],
   "source": [
    "import matplotlib.pyplot as plt\n",
    "\n",
    "# acc = history.history['accuracy']\n",
    "# val_acc = history.history['val_accuracy']\n",
    "\n",
    "# loss = history.history['loss']\n",
    "# val_loss = history.history['val_loss']\n",
    "\n",
    "acc = history['accuracy']\n",
    "val_acc = history['val_accuracy']\n",
    "\n",
    "loss = history['loss']\n",
    "val_loss = history['val_loss']\n",
    "\n",
    "epochs = range(1, len(acc) + 1)\n",
    "\n",
    "plt.plot(epochs, acc, 'r', label=\"Training acc\")\n",
    "plt.plot(epochs, val_acc, 'b', label=\"Validation acc\")\n",
    "plt.title('Training and validation accuracy')\n",
    "plt.legend()\n",
    "\n",
    "plt.figure()\n",
    "\n",
    "plt.plot(epochs, loss, 'r', label=\"Training loss\")\n",
    "plt.plot(epochs, val_loss, 'b', label=\"Validation loss\")\n",
    "plt.title('Training and validation loss')\n",
    "plt.legend()\n",
    "\n",
    "plt.show()\n"
   ]
  },
  {
   "cell_type": "code",
   "execution_count": null,
   "metadata": {
    "colab": {
     "base_uri": "https://localhost:8080/"
    },
    "executionInfo": {
     "elapsed": 4216,
     "status": "ok",
     "timestamp": 1653650833948,
     "user": {
      "displayName": "김민엽",
      "userId": "11235644958609629845"
     },
     "user_tz": -540
    },
    "id": "YmxOHxxkiREI",
    "outputId": "70b45641-ebc1-45c0-9640-cadeef60c80e"
   },
   "outputs": [
    {
     "name": "stdout",
     "output_type": "stream",
     "text": [
      "Model: \"model\"\n",
      "__________________________________________________________________________________________________\n",
      " Layer (type)                   Output Shape         Param #     Connected to                     \n",
      "==================================================================================================\n",
      " input_1 (InputLayer)           [(None, 299, 299, 3  0           []                               \n",
      "                                )]                                                                \n",
      "                                                                                                  \n",
      " conv2d (Conv2D)                (None, 149, 149, 32  864         ['input_1[0][0]']                \n",
      "                                )                                                                 \n",
      "                                                                                                  \n",
      " batch_normalization (BatchNorm  (None, 149, 149, 32  96         ['conv2d[0][0]']                 \n",
      " alization)                     )                                                                 \n",
      "                                                                                                  \n",
      " activation (Activation)        (None, 149, 149, 32  0           ['batch_normalization[0][0]']    \n",
      "                                )                                                                 \n",
      "                                                                                                  \n",
      " conv2d_1 (Conv2D)              (None, 147, 147, 32  9216        ['activation[0][0]']             \n",
      "                                )                                                                 \n",
      "                                                                                                  \n",
      " batch_normalization_1 (BatchNo  (None, 147, 147, 32  96         ['conv2d_1[0][0]']               \n",
      " rmalization)                   )                                                                 \n",
      "                                                                                                  \n",
      " activation_1 (Activation)      (None, 147, 147, 32  0           ['batch_normalization_1[0][0]']  \n",
      "                                )                                                                 \n",
      "                                                                                                  \n",
      " conv2d_2 (Conv2D)              (None, 147, 147, 64  18432       ['activation_1[0][0]']           \n",
      "                                )                                                                 \n",
      "                                                                                                  \n",
      " batch_normalization_2 (BatchNo  (None, 147, 147, 64  192        ['conv2d_2[0][0]']               \n",
      " rmalization)                   )                                                                 \n",
      "                                                                                                  \n",
      " activation_2 (Activation)      (None, 147, 147, 64  0           ['batch_normalization_2[0][0]']  \n",
      "                                )                                                                 \n",
      "                                                                                                  \n",
      " max_pooling2d (MaxPooling2D)   (None, 73, 73, 64)   0           ['activation_2[0][0]']           \n",
      "                                                                                                  \n",
      " conv2d_3 (Conv2D)              (None, 73, 73, 80)   5120        ['max_pooling2d[0][0]']          \n",
      "                                                                                                  \n",
      " batch_normalization_3 (BatchNo  (None, 73, 73, 80)  240         ['conv2d_3[0][0]']               \n",
      " rmalization)                                                                                     \n",
      "                                                                                                  \n",
      " activation_3 (Activation)      (None, 73, 73, 80)   0           ['batch_normalization_3[0][0]']  \n",
      "                                                                                                  \n",
      " conv2d_4 (Conv2D)              (None, 71, 71, 192)  138240      ['activation_3[0][0]']           \n",
      "                                                                                                  \n",
      " batch_normalization_4 (BatchNo  (None, 71, 71, 192)  576        ['conv2d_4[0][0]']               \n",
      " rmalization)                                                                                     \n",
      "                                                                                                  \n",
      " activation_4 (Activation)      (None, 71, 71, 192)  0           ['batch_normalization_4[0][0]']  \n",
      "                                                                                                  \n",
      " max_pooling2d_1 (MaxPooling2D)  (None, 35, 35, 192)  0          ['activation_4[0][0]']           \n",
      "                                                                                                  \n",
      " conv2d_8 (Conv2D)              (None, 35, 35, 64)   12288       ['max_pooling2d_1[0][0]']        \n",
      "                                                                                                  \n",
      " batch_normalization_8 (BatchNo  (None, 35, 35, 64)  192         ['conv2d_8[0][0]']               \n",
      " rmalization)                                                                                     \n",
      "                                                                                                  \n",
      " activation_8 (Activation)      (None, 35, 35, 64)   0           ['batch_normalization_8[0][0]']  \n",
      "                                                                                                  \n",
      " conv2d_6 (Conv2D)              (None, 35, 35, 48)   9216        ['max_pooling2d_1[0][0]']        \n",
      "                                                                                                  \n",
      " conv2d_9 (Conv2D)              (None, 35, 35, 96)   55296       ['activation_8[0][0]']           \n",
      "                                                                                                  \n",
      " batch_normalization_6 (BatchNo  (None, 35, 35, 48)  144         ['conv2d_6[0][0]']               \n",
      " rmalization)                                                                                     \n",
      "                                                                                                  \n",
      " batch_normalization_9 (BatchNo  (None, 35, 35, 96)  288         ['conv2d_9[0][0]']               \n",
      " rmalization)                                                                                     \n",
      "                                                                                                  \n",
      " activation_6 (Activation)      (None, 35, 35, 48)   0           ['batch_normalization_6[0][0]']  \n",
      "                                                                                                  \n",
      " activation_9 (Activation)      (None, 35, 35, 96)   0           ['batch_normalization_9[0][0]']  \n",
      "                                                                                                  \n",
      " average_pooling2d (AveragePool  (None, 35, 35, 192)  0          ['max_pooling2d_1[0][0]']        \n",
      " ing2D)                                                                                           \n",
      "                                                                                                  \n",
      " conv2d_5 (Conv2D)              (None, 35, 35, 64)   12288       ['max_pooling2d_1[0][0]']        \n",
      "                                                                                                  \n",
      " conv2d_7 (Conv2D)              (None, 35, 35, 64)   76800       ['activation_6[0][0]']           \n",
      "                                                                                                  \n",
      " conv2d_10 (Conv2D)             (None, 35, 35, 96)   82944       ['activation_9[0][0]']           \n",
      "                                                                                                  \n",
      " conv2d_11 (Conv2D)             (None, 35, 35, 32)   6144        ['average_pooling2d[0][0]']      \n",
      "                                                                                                  \n",
      " batch_normalization_5 (BatchNo  (None, 35, 35, 64)  192         ['conv2d_5[0][0]']               \n",
      " rmalization)                                                                                     \n",
      "                                                                                                  \n",
      " batch_normalization_7 (BatchNo  (None, 35, 35, 64)  192         ['conv2d_7[0][0]']               \n",
      " rmalization)                                                                                     \n",
      "                                                                                                  \n",
      " batch_normalization_10 (BatchN  (None, 35, 35, 96)  288         ['conv2d_10[0][0]']              \n",
      " ormalization)                                                                                    \n",
      "                                                                                                  \n",
      " batch_normalization_11 (BatchN  (None, 35, 35, 32)  96          ['conv2d_11[0][0]']              \n",
      " ormalization)                                                                                    \n",
      "                                                                                                  \n",
      " activation_5 (Activation)      (None, 35, 35, 64)   0           ['batch_normalization_5[0][0]']  \n",
      "                                                                                                  \n",
      " activation_7 (Activation)      (None, 35, 35, 64)   0           ['batch_normalization_7[0][0]']  \n",
      "                                                                                                  \n",
      " activation_10 (Activation)     (None, 35, 35, 96)   0           ['batch_normalization_10[0][0]'] \n",
      "                                                                                                  \n",
      " activation_11 (Activation)     (None, 35, 35, 32)   0           ['batch_normalization_11[0][0]'] \n",
      "                                                                                                  \n",
      " mixed0 (Concatenate)           (None, 35, 35, 256)  0           ['activation_5[0][0]',           \n",
      "                                                                  'activation_7[0][0]',           \n",
      "                                                                  'activation_10[0][0]',          \n",
      "                                                                  'activation_11[0][0]']          \n",
      "                                                                                                  \n",
      " conv2d_15 (Conv2D)             (None, 35, 35, 64)   16384       ['mixed0[0][0]']                 \n",
      "                                                                                                  \n",
      " batch_normalization_15 (BatchN  (None, 35, 35, 64)  192         ['conv2d_15[0][0]']              \n",
      " ormalization)                                                                                    \n",
      "                                                                                                  \n",
      " activation_15 (Activation)     (None, 35, 35, 64)   0           ['batch_normalization_15[0][0]'] \n",
      "                                                                                                  \n",
      " conv2d_13 (Conv2D)             (None, 35, 35, 48)   12288       ['mixed0[0][0]']                 \n",
      "                                                                                                  \n",
      " conv2d_16 (Conv2D)             (None, 35, 35, 96)   55296       ['activation_15[0][0]']          \n",
      "                                                                                                  \n",
      " batch_normalization_13 (BatchN  (None, 35, 35, 48)  144         ['conv2d_13[0][0]']              \n",
      " ormalization)                                                                                    \n",
      "                                                                                                  \n",
      " batch_normalization_16 (BatchN  (None, 35, 35, 96)  288         ['conv2d_16[0][0]']              \n",
      " ormalization)                                                                                    \n",
      "                                                                                                  \n",
      " activation_13 (Activation)     (None, 35, 35, 48)   0           ['batch_normalization_13[0][0]'] \n",
      "                                                                                                  \n",
      " activation_16 (Activation)     (None, 35, 35, 96)   0           ['batch_normalization_16[0][0]'] \n",
      "                                                                                                  \n",
      " average_pooling2d_1 (AveragePo  (None, 35, 35, 256)  0          ['mixed0[0][0]']                 \n",
      " oling2D)                                                                                         \n",
      "                                                                                                  \n",
      " conv2d_12 (Conv2D)             (None, 35, 35, 64)   16384       ['mixed0[0][0]']                 \n",
      "                                                                                                  \n",
      " conv2d_14 (Conv2D)             (None, 35, 35, 64)   76800       ['activation_13[0][0]']          \n",
      "                                                                                                  \n",
      " conv2d_17 (Conv2D)             (None, 35, 35, 96)   82944       ['activation_16[0][0]']          \n",
      "                                                                                                  \n",
      " conv2d_18 (Conv2D)             (None, 35, 35, 64)   16384       ['average_pooling2d_1[0][0]']    \n",
      "                                                                                                  \n",
      " batch_normalization_12 (BatchN  (None, 35, 35, 64)  192         ['conv2d_12[0][0]']              \n",
      " ormalization)                                                                                    \n",
      "                                                                                                  \n",
      " batch_normalization_14 (BatchN  (None, 35, 35, 64)  192         ['conv2d_14[0][0]']              \n",
      " ormalization)                                                                                    \n",
      "                                                                                                  \n",
      " batch_normalization_17 (BatchN  (None, 35, 35, 96)  288         ['conv2d_17[0][0]']              \n",
      " ormalization)                                                                                    \n",
      "                                                                                                  \n",
      " batch_normalization_18 (BatchN  (None, 35, 35, 64)  192         ['conv2d_18[0][0]']              \n",
      " ormalization)                                                                                    \n",
      "                                                                                                  \n",
      " activation_12 (Activation)     (None, 35, 35, 64)   0           ['batch_normalization_12[0][0]'] \n",
      "                                                                                                  \n",
      " activation_14 (Activation)     (None, 35, 35, 64)   0           ['batch_normalization_14[0][0]'] \n",
      "                                                                                                  \n",
      " activation_17 (Activation)     (None, 35, 35, 96)   0           ['batch_normalization_17[0][0]'] \n",
      "                                                                                                  \n",
      " activation_18 (Activation)     (None, 35, 35, 64)   0           ['batch_normalization_18[0][0]'] \n",
      "                                                                                                  \n",
      " mixed1 (Concatenate)           (None, 35, 35, 288)  0           ['activation_12[0][0]',          \n",
      "                                                                  'activation_14[0][0]',          \n",
      "                                                                  'activation_17[0][0]',          \n",
      "                                                                  'activation_18[0][0]']          \n",
      "                                                                                                  \n",
      " conv2d_22 (Conv2D)             (None, 35, 35, 64)   18432       ['mixed1[0][0]']                 \n",
      "                                                                                                  \n",
      " batch_normalization_22 (BatchN  (None, 35, 35, 64)  192         ['conv2d_22[0][0]']              \n",
      " ormalization)                                                                                    \n",
      "                                                                                                  \n",
      " activation_22 (Activation)     (None, 35, 35, 64)   0           ['batch_normalization_22[0][0]'] \n",
      "                                                                                                  \n",
      " conv2d_20 (Conv2D)             (None, 35, 35, 48)   13824       ['mixed1[0][0]']                 \n",
      "                                                                                                  \n",
      " conv2d_23 (Conv2D)             (None, 35, 35, 96)   55296       ['activation_22[0][0]']          \n",
      "                                                                                                  \n",
      " batch_normalization_20 (BatchN  (None, 35, 35, 48)  144         ['conv2d_20[0][0]']              \n",
      " ormalization)                                                                                    \n",
      "                                                                                                  \n",
      " batch_normalization_23 (BatchN  (None, 35, 35, 96)  288         ['conv2d_23[0][0]']              \n",
      " ormalization)                                                                                    \n",
      "                                                                                                  \n",
      " activation_20 (Activation)     (None, 35, 35, 48)   0           ['batch_normalization_20[0][0]'] \n",
      "                                                                                                  \n",
      " activation_23 (Activation)     (None, 35, 35, 96)   0           ['batch_normalization_23[0][0]'] \n",
      "                                                                                                  \n",
      " average_pooling2d_2 (AveragePo  (None, 35, 35, 288)  0          ['mixed1[0][0]']                 \n",
      " oling2D)                                                                                         \n",
      "                                                                                                  \n",
      " conv2d_19 (Conv2D)             (None, 35, 35, 64)   18432       ['mixed1[0][0]']                 \n",
      "                                                                                                  \n",
      " conv2d_21 (Conv2D)             (None, 35, 35, 64)   76800       ['activation_20[0][0]']          \n",
      "                                                                                                  \n",
      " conv2d_24 (Conv2D)             (None, 35, 35, 96)   82944       ['activation_23[0][0]']          \n",
      "                                                                                                  \n",
      " conv2d_25 (Conv2D)             (None, 35, 35, 64)   18432       ['average_pooling2d_2[0][0]']    \n",
      "                                                                                                  \n",
      " batch_normalization_19 (BatchN  (None, 35, 35, 64)  192         ['conv2d_19[0][0]']              \n",
      " ormalization)                                                                                    \n",
      "                                                                                                  \n",
      " batch_normalization_21 (BatchN  (None, 35, 35, 64)  192         ['conv2d_21[0][0]']              \n",
      " ormalization)                                                                                    \n",
      "                                                                                                  \n",
      " batch_normalization_24 (BatchN  (None, 35, 35, 96)  288         ['conv2d_24[0][0]']              \n",
      " ormalization)                                                                                    \n",
      "                                                                                                  \n",
      " batch_normalization_25 (BatchN  (None, 35, 35, 64)  192         ['conv2d_25[0][0]']              \n",
      " ormalization)                                                                                    \n",
      "                                                                                                  \n",
      " activation_19 (Activation)     (None, 35, 35, 64)   0           ['batch_normalization_19[0][0]'] \n",
      "                                                                                                  \n",
      " activation_21 (Activation)     (None, 35, 35, 64)   0           ['batch_normalization_21[0][0]'] \n",
      "                                                                                                  \n",
      " activation_24 (Activation)     (None, 35, 35, 96)   0           ['batch_normalization_24[0][0]'] \n",
      "                                                                                                  \n",
      " activation_25 (Activation)     (None, 35, 35, 64)   0           ['batch_normalization_25[0][0]'] \n",
      "                                                                                                  \n",
      " mixed2 (Concatenate)           (None, 35, 35, 288)  0           ['activation_19[0][0]',          \n",
      "                                                                  'activation_21[0][0]',          \n",
      "                                                                  'activation_24[0][0]',          \n",
      "                                                                  'activation_25[0][0]']          \n",
      "                                                                                                  \n",
      " conv2d_27 (Conv2D)             (None, 35, 35, 64)   18432       ['mixed2[0][0]']                 \n",
      "                                                                                                  \n",
      " batch_normalization_27 (BatchN  (None, 35, 35, 64)  192         ['conv2d_27[0][0]']              \n",
      " ormalization)                                                                                    \n",
      "                                                                                                  \n",
      " activation_27 (Activation)     (None, 35, 35, 64)   0           ['batch_normalization_27[0][0]'] \n",
      "                                                                                                  \n",
      " conv2d_28 (Conv2D)             (None, 35, 35, 96)   55296       ['activation_27[0][0]']          \n",
      "                                                                                                  \n",
      " batch_normalization_28 (BatchN  (None, 35, 35, 96)  288         ['conv2d_28[0][0]']              \n",
      " ormalization)                                                                                    \n",
      "                                                                                                  \n",
      " activation_28 (Activation)     (None, 35, 35, 96)   0           ['batch_normalization_28[0][0]'] \n",
      "                                                                                                  \n",
      " conv2d_26 (Conv2D)             (None, 17, 17, 384)  995328      ['mixed2[0][0]']                 \n",
      "                                                                                                  \n",
      " conv2d_29 (Conv2D)             (None, 17, 17, 96)   82944       ['activation_28[0][0]']          \n",
      "                                                                                                  \n",
      " batch_normalization_26 (BatchN  (None, 17, 17, 384)  1152       ['conv2d_26[0][0]']              \n",
      " ormalization)                                                                                    \n",
      "                                                                                                  \n",
      " batch_normalization_29 (BatchN  (None, 17, 17, 96)  288         ['conv2d_29[0][0]']              \n",
      " ormalization)                                                                                    \n",
      "                                                                                                  \n",
      " activation_26 (Activation)     (None, 17, 17, 384)  0           ['batch_normalization_26[0][0]'] \n",
      "                                                                                                  \n",
      " activation_29 (Activation)     (None, 17, 17, 96)   0           ['batch_normalization_29[0][0]'] \n",
      "                                                                                                  \n",
      " max_pooling2d_2 (MaxPooling2D)  (None, 17, 17, 288)  0          ['mixed2[0][0]']                 \n",
      "                                                                                                  \n",
      " mixed3 (Concatenate)           (None, 17, 17, 768)  0           ['activation_26[0][0]',          \n",
      "                                                                  'activation_29[0][0]',          \n",
      "                                                                  'max_pooling2d_2[0][0]']        \n",
      "                                                                                                  \n",
      " conv2d_34 (Conv2D)             (None, 17, 17, 128)  98304       ['mixed3[0][0]']                 \n",
      "                                                                                                  \n",
      " batch_normalization_34 (BatchN  (None, 17, 17, 128)  384        ['conv2d_34[0][0]']              \n",
      " ormalization)                                                                                    \n",
      "                                                                                                  \n",
      " activation_34 (Activation)     (None, 17, 17, 128)  0           ['batch_normalization_34[0][0]'] \n",
      "                                                                                                  \n",
      " conv2d_35 (Conv2D)             (None, 17, 17, 128)  114688      ['activation_34[0][0]']          \n",
      "                                                                                                  \n",
      " batch_normalization_35 (BatchN  (None, 17, 17, 128)  384        ['conv2d_35[0][0]']              \n",
      " ormalization)                                                                                    \n",
      "                                                                                                  \n",
      " activation_35 (Activation)     (None, 17, 17, 128)  0           ['batch_normalization_35[0][0]'] \n",
      "                                                                                                  \n",
      " conv2d_31 (Conv2D)             (None, 17, 17, 128)  98304       ['mixed3[0][0]']                 \n",
      "                                                                                                  \n",
      " conv2d_36 (Conv2D)             (None, 17, 17, 128)  114688      ['activation_35[0][0]']          \n",
      "                                                                                                  \n",
      " batch_normalization_31 (BatchN  (None, 17, 17, 128)  384        ['conv2d_31[0][0]']              \n",
      " ormalization)                                                                                    \n",
      "                                                                                                  \n",
      " batch_normalization_36 (BatchN  (None, 17, 17, 128)  384        ['conv2d_36[0][0]']              \n",
      " ormalization)                                                                                    \n",
      "                                                                                                  \n",
      " activation_31 (Activation)     (None, 17, 17, 128)  0           ['batch_normalization_31[0][0]'] \n",
      "                                                                                                  \n",
      " activation_36 (Activation)     (None, 17, 17, 128)  0           ['batch_normalization_36[0][0]'] \n",
      "                                                                                                  \n",
      " conv2d_32 (Conv2D)             (None, 17, 17, 128)  114688      ['activation_31[0][0]']          \n",
      "                                                                                                  \n",
      " conv2d_37 (Conv2D)             (None, 17, 17, 128)  114688      ['activation_36[0][0]']          \n",
      "                                                                                                  \n",
      " batch_normalization_32 (BatchN  (None, 17, 17, 128)  384        ['conv2d_32[0][0]']              \n",
      " ormalization)                                                                                    \n",
      "                                                                                                  \n",
      " batch_normalization_37 (BatchN  (None, 17, 17, 128)  384        ['conv2d_37[0][0]']              \n",
      " ormalization)                                                                                    \n",
      "                                                                                                  \n",
      " activation_32 (Activation)     (None, 17, 17, 128)  0           ['batch_normalization_32[0][0]'] \n",
      "                                                                                                  \n",
      " activation_37 (Activation)     (None, 17, 17, 128)  0           ['batch_normalization_37[0][0]'] \n",
      "                                                                                                  \n",
      " average_pooling2d_3 (AveragePo  (None, 17, 17, 768)  0          ['mixed3[0][0]']                 \n",
      " oling2D)                                                                                         \n",
      "                                                                                                  \n",
      " conv2d_30 (Conv2D)             (None, 17, 17, 192)  147456      ['mixed3[0][0]']                 \n",
      "                                                                                                  \n",
      " conv2d_33 (Conv2D)             (None, 17, 17, 192)  172032      ['activation_32[0][0]']          \n",
      "                                                                                                  \n",
      " conv2d_38 (Conv2D)             (None, 17, 17, 192)  172032      ['activation_37[0][0]']          \n",
      "                                                                                                  \n",
      " conv2d_39 (Conv2D)             (None, 17, 17, 192)  147456      ['average_pooling2d_3[0][0]']    \n",
      "                                                                                                  \n",
      " batch_normalization_30 (BatchN  (None, 17, 17, 192)  576        ['conv2d_30[0][0]']              \n",
      " ormalization)                                                                                    \n",
      "                                                                                                  \n",
      " batch_normalization_33 (BatchN  (None, 17, 17, 192)  576        ['conv2d_33[0][0]']              \n",
      " ormalization)                                                                                    \n",
      "                                                                                                  \n",
      " batch_normalization_38 (BatchN  (None, 17, 17, 192)  576        ['conv2d_38[0][0]']              \n",
      " ormalization)                                                                                    \n",
      "                                                                                                  \n",
      " batch_normalization_39 (BatchN  (None, 17, 17, 192)  576        ['conv2d_39[0][0]']              \n",
      " ormalization)                                                                                    \n",
      "                                                                                                  \n",
      " activation_30 (Activation)     (None, 17, 17, 192)  0           ['batch_normalization_30[0][0]'] \n",
      "                                                                                                  \n",
      " activation_33 (Activation)     (None, 17, 17, 192)  0           ['batch_normalization_33[0][0]'] \n",
      "                                                                                                  \n",
      " activation_38 (Activation)     (None, 17, 17, 192)  0           ['batch_normalization_38[0][0]'] \n",
      "                                                                                                  \n",
      " activation_39 (Activation)     (None, 17, 17, 192)  0           ['batch_normalization_39[0][0]'] \n",
      "                                                                                                  \n",
      " mixed4 (Concatenate)           (None, 17, 17, 768)  0           ['activation_30[0][0]',          \n",
      "                                                                  'activation_33[0][0]',          \n",
      "                                                                  'activation_38[0][0]',          \n",
      "                                                                  'activation_39[0][0]']          \n",
      "                                                                                                  \n",
      " conv2d_44 (Conv2D)             (None, 17, 17, 160)  122880      ['mixed4[0][0]']                 \n",
      "                                                                                                  \n",
      " batch_normalization_44 (BatchN  (None, 17, 17, 160)  480        ['conv2d_44[0][0]']              \n",
      " ormalization)                                                                                    \n",
      "                                                                                                  \n",
      " activation_44 (Activation)     (None, 17, 17, 160)  0           ['batch_normalization_44[0][0]'] \n",
      "                                                                                                  \n",
      " conv2d_45 (Conv2D)             (None, 17, 17, 160)  179200      ['activation_44[0][0]']          \n",
      "                                                                                                  \n",
      " batch_normalization_45 (BatchN  (None, 17, 17, 160)  480        ['conv2d_45[0][0]']              \n",
      " ormalization)                                                                                    \n",
      "                                                                                                  \n",
      " activation_45 (Activation)     (None, 17, 17, 160)  0           ['batch_normalization_45[0][0]'] \n",
      "                                                                                                  \n",
      " conv2d_41 (Conv2D)             (None, 17, 17, 160)  122880      ['mixed4[0][0]']                 \n",
      "                                                                                                  \n",
      " conv2d_46 (Conv2D)             (None, 17, 17, 160)  179200      ['activation_45[0][0]']          \n",
      "                                                                                                  \n",
      " batch_normalization_41 (BatchN  (None, 17, 17, 160)  480        ['conv2d_41[0][0]']              \n",
      " ormalization)                                                                                    \n",
      "                                                                                                  \n",
      " batch_normalization_46 (BatchN  (None, 17, 17, 160)  480        ['conv2d_46[0][0]']              \n",
      " ormalization)                                                                                    \n",
      "                                                                                                  \n",
      " activation_41 (Activation)     (None, 17, 17, 160)  0           ['batch_normalization_41[0][0]'] \n",
      "                                                                                                  \n",
      " activation_46 (Activation)     (None, 17, 17, 160)  0           ['batch_normalization_46[0][0]'] \n",
      "                                                                                                  \n",
      " conv2d_42 (Conv2D)             (None, 17, 17, 160)  179200      ['activation_41[0][0]']          \n",
      "                                                                                                  \n",
      " conv2d_47 (Conv2D)             (None, 17, 17, 160)  179200      ['activation_46[0][0]']          \n",
      "                                                                                                  \n",
      " batch_normalization_42 (BatchN  (None, 17, 17, 160)  480        ['conv2d_42[0][0]']              \n",
      " ormalization)                                                                                    \n",
      "                                                                                                  \n",
      " batch_normalization_47 (BatchN  (None, 17, 17, 160)  480        ['conv2d_47[0][0]']              \n",
      " ormalization)                                                                                    \n",
      "                                                                                                  \n",
      " activation_42 (Activation)     (None, 17, 17, 160)  0           ['batch_normalization_42[0][0]'] \n",
      "                                                                                                  \n",
      " activation_47 (Activation)     (None, 17, 17, 160)  0           ['batch_normalization_47[0][0]'] \n",
      "                                                                                                  \n",
      " average_pooling2d_4 (AveragePo  (None, 17, 17, 768)  0          ['mixed4[0][0]']                 \n",
      " oling2D)                                                                                         \n",
      "                                                                                                  \n",
      " conv2d_40 (Conv2D)             (None, 17, 17, 192)  147456      ['mixed4[0][0]']                 \n",
      "                                                                                                  \n",
      " conv2d_43 (Conv2D)             (None, 17, 17, 192)  215040      ['activation_42[0][0]']          \n",
      "                                                                                                  \n",
      " conv2d_48 (Conv2D)             (None, 17, 17, 192)  215040      ['activation_47[0][0]']          \n",
      "                                                                                                  \n",
      " conv2d_49 (Conv2D)             (None, 17, 17, 192)  147456      ['average_pooling2d_4[0][0]']    \n",
      "                                                                                                  \n",
      " batch_normalization_40 (BatchN  (None, 17, 17, 192)  576        ['conv2d_40[0][0]']              \n",
      " ormalization)                                                                                    \n",
      "                                                                                                  \n",
      " batch_normalization_43 (BatchN  (None, 17, 17, 192)  576        ['conv2d_43[0][0]']              \n",
      " ormalization)                                                                                    \n",
      "                                                                                                  \n",
      " batch_normalization_48 (BatchN  (None, 17, 17, 192)  576        ['conv2d_48[0][0]']              \n",
      " ormalization)                                                                                    \n",
      "                                                                                                  \n",
      " batch_normalization_49 (BatchN  (None, 17, 17, 192)  576        ['conv2d_49[0][0]']              \n",
      " ormalization)                                                                                    \n",
      "                                                                                                  \n",
      " activation_40 (Activation)     (None, 17, 17, 192)  0           ['batch_normalization_40[0][0]'] \n",
      "                                                                                                  \n",
      " activation_43 (Activation)     (None, 17, 17, 192)  0           ['batch_normalization_43[0][0]'] \n",
      "                                                                                                  \n",
      " activation_48 (Activation)     (None, 17, 17, 192)  0           ['batch_normalization_48[0][0]'] \n",
      "                                                                                                  \n",
      " activation_49 (Activation)     (None, 17, 17, 192)  0           ['batch_normalization_49[0][0]'] \n",
      "                                                                                                  \n",
      " mixed5 (Concatenate)           (None, 17, 17, 768)  0           ['activation_40[0][0]',          \n",
      "                                                                  'activation_43[0][0]',          \n",
      "                                                                  'activation_48[0][0]',          \n",
      "                                                                  'activation_49[0][0]']          \n",
      "                                                                                                  \n",
      " conv2d_54 (Conv2D)             (None, 17, 17, 160)  122880      ['mixed5[0][0]']                 \n",
      "                                                                                                  \n",
      " batch_normalization_54 (BatchN  (None, 17, 17, 160)  480        ['conv2d_54[0][0]']              \n",
      " ormalization)                                                                                    \n",
      "                                                                                                  \n",
      " activation_54 (Activation)     (None, 17, 17, 160)  0           ['batch_normalization_54[0][0]'] \n",
      "                                                                                                  \n",
      " conv2d_55 (Conv2D)             (None, 17, 17, 160)  179200      ['activation_54[0][0]']          \n",
      "                                                                                                  \n",
      " batch_normalization_55 (BatchN  (None, 17, 17, 160)  480        ['conv2d_55[0][0]']              \n",
      " ormalization)                                                                                    \n",
      "                                                                                                  \n",
      " activation_55 (Activation)     (None, 17, 17, 160)  0           ['batch_normalization_55[0][0]'] \n",
      "                                                                                                  \n",
      " conv2d_51 (Conv2D)             (None, 17, 17, 160)  122880      ['mixed5[0][0]']                 \n",
      "                                                                                                  \n",
      " conv2d_56 (Conv2D)             (None, 17, 17, 160)  179200      ['activation_55[0][0]']          \n",
      "                                                                                                  \n",
      " batch_normalization_51 (BatchN  (None, 17, 17, 160)  480        ['conv2d_51[0][0]']              \n",
      " ormalization)                                                                                    \n",
      "                                                                                                  \n",
      " batch_normalization_56 (BatchN  (None, 17, 17, 160)  480        ['conv2d_56[0][0]']              \n",
      " ormalization)                                                                                    \n",
      "                                                                                                  \n",
      " activation_51 (Activation)     (None, 17, 17, 160)  0           ['batch_normalization_51[0][0]'] \n",
      "                                                                                                  \n",
      " activation_56 (Activation)     (None, 17, 17, 160)  0           ['batch_normalization_56[0][0]'] \n",
      "                                                                                                  \n",
      " conv2d_52 (Conv2D)             (None, 17, 17, 160)  179200      ['activation_51[0][0]']          \n",
      "                                                                                                  \n",
      " conv2d_57 (Conv2D)             (None, 17, 17, 160)  179200      ['activation_56[0][0]']          \n",
      "                                                                                                  \n",
      " batch_normalization_52 (BatchN  (None, 17, 17, 160)  480        ['conv2d_52[0][0]']              \n",
      " ormalization)                                                                                    \n",
      "                                                                                                  \n",
      " batch_normalization_57 (BatchN  (None, 17, 17, 160)  480        ['conv2d_57[0][0]']              \n",
      " ormalization)                                                                                    \n",
      "                                                                                                  \n",
      " activation_52 (Activation)     (None, 17, 17, 160)  0           ['batch_normalization_52[0][0]'] \n",
      "                                                                                                  \n",
      " activation_57 (Activation)     (None, 17, 17, 160)  0           ['batch_normalization_57[0][0]'] \n",
      "                                                                                                  \n",
      " average_pooling2d_5 (AveragePo  (None, 17, 17, 768)  0          ['mixed5[0][0]']                 \n",
      " oling2D)                                                                                         \n",
      "                                                                                                  \n",
      " conv2d_50 (Conv2D)             (None, 17, 17, 192)  147456      ['mixed5[0][0]']                 \n",
      "                                                                                                  \n",
      " conv2d_53 (Conv2D)             (None, 17, 17, 192)  215040      ['activation_52[0][0]']          \n",
      "                                                                                                  \n",
      " conv2d_58 (Conv2D)             (None, 17, 17, 192)  215040      ['activation_57[0][0]']          \n",
      "                                                                                                  \n",
      " conv2d_59 (Conv2D)             (None, 17, 17, 192)  147456      ['average_pooling2d_5[0][0]']    \n",
      "                                                                                                  \n",
      " batch_normalization_50 (BatchN  (None, 17, 17, 192)  576        ['conv2d_50[0][0]']              \n",
      " ormalization)                                                                                    \n",
      "                                                                                                  \n",
      " batch_normalization_53 (BatchN  (None, 17, 17, 192)  576        ['conv2d_53[0][0]']              \n",
      " ormalization)                                                                                    \n",
      "                                                                                                  \n",
      " batch_normalization_58 (BatchN  (None, 17, 17, 192)  576        ['conv2d_58[0][0]']              \n",
      " ormalization)                                                                                    \n",
      "                                                                                                  \n",
      " batch_normalization_59 (BatchN  (None, 17, 17, 192)  576        ['conv2d_59[0][0]']              \n",
      " ormalization)                                                                                    \n",
      "                                                                                                  \n",
      " activation_50 (Activation)     (None, 17, 17, 192)  0           ['batch_normalization_50[0][0]'] \n",
      "                                                                                                  \n",
      " activation_53 (Activation)     (None, 17, 17, 192)  0           ['batch_normalization_53[0][0]'] \n",
      "                                                                                                  \n",
      " activation_58 (Activation)     (None, 17, 17, 192)  0           ['batch_normalization_58[0][0]'] \n",
      "                                                                                                  \n",
      " activation_59 (Activation)     (None, 17, 17, 192)  0           ['batch_normalization_59[0][0]'] \n",
      "                                                                                                  \n",
      " mixed6 (Concatenate)           (None, 17, 17, 768)  0           ['activation_50[0][0]',          \n",
      "                                                                  'activation_53[0][0]',          \n",
      "                                                                  'activation_58[0][0]',          \n",
      "                                                                  'activation_59[0][0]']          \n",
      "                                                                                                  \n",
      " conv2d_64 (Conv2D)             (None, 17, 17, 192)  147456      ['mixed6[0][0]']                 \n",
      "                                                                                                  \n",
      " batch_normalization_64 (BatchN  (None, 17, 17, 192)  576        ['conv2d_64[0][0]']              \n",
      " ormalization)                                                                                    \n",
      "                                                                                                  \n",
      " activation_64 (Activation)     (None, 17, 17, 192)  0           ['batch_normalization_64[0][0]'] \n",
      "                                                                                                  \n",
      " conv2d_65 (Conv2D)             (None, 17, 17, 192)  258048      ['activation_64[0][0]']          \n",
      "                                                                                                  \n",
      " batch_normalization_65 (BatchN  (None, 17, 17, 192)  576        ['conv2d_65[0][0]']              \n",
      " ormalization)                                                                                    \n",
      "                                                                                                  \n",
      " activation_65 (Activation)     (None, 17, 17, 192)  0           ['batch_normalization_65[0][0]'] \n",
      "                                                                                                  \n",
      " conv2d_61 (Conv2D)             (None, 17, 17, 192)  147456      ['mixed6[0][0]']                 \n",
      "                                                                                                  \n",
      " conv2d_66 (Conv2D)             (None, 17, 17, 192)  258048      ['activation_65[0][0]']          \n",
      "                                                                                                  \n",
      " batch_normalization_61 (BatchN  (None, 17, 17, 192)  576        ['conv2d_61[0][0]']              \n",
      " ormalization)                                                                                    \n",
      "                                                                                                  \n",
      " batch_normalization_66 (BatchN  (None, 17, 17, 192)  576        ['conv2d_66[0][0]']              \n",
      " ormalization)                                                                                    \n",
      "                                                                                                  \n",
      " activation_61 (Activation)     (None, 17, 17, 192)  0           ['batch_normalization_61[0][0]'] \n",
      "                                                                                                  \n",
      " activation_66 (Activation)     (None, 17, 17, 192)  0           ['batch_normalization_66[0][0]'] \n",
      "                                                                                                  \n",
      " conv2d_62 (Conv2D)             (None, 17, 17, 192)  258048      ['activation_61[0][0]']          \n",
      "                                                                                                  \n",
      " conv2d_67 (Conv2D)             (None, 17, 17, 192)  258048      ['activation_66[0][0]']          \n",
      "                                                                                                  \n",
      " batch_normalization_62 (BatchN  (None, 17, 17, 192)  576        ['conv2d_62[0][0]']              \n",
      " ormalization)                                                                                    \n",
      "                                                                                                  \n",
      " batch_normalization_67 (BatchN  (None, 17, 17, 192)  576        ['conv2d_67[0][0]']              \n",
      " ormalization)                                                                                    \n",
      "                                                                                                  \n",
      " activation_62 (Activation)     (None, 17, 17, 192)  0           ['batch_normalization_62[0][0]'] \n",
      "                                                                                                  \n",
      " activation_67 (Activation)     (None, 17, 17, 192)  0           ['batch_normalization_67[0][0]'] \n",
      "                                                                                                  \n",
      " average_pooling2d_6 (AveragePo  (None, 17, 17, 768)  0          ['mixed6[0][0]']                 \n",
      " oling2D)                                                                                         \n",
      "                                                                                                  \n",
      " conv2d_60 (Conv2D)             (None, 17, 17, 192)  147456      ['mixed6[0][0]']                 \n",
      "                                                                                                  \n",
      " conv2d_63 (Conv2D)             (None, 17, 17, 192)  258048      ['activation_62[0][0]']          \n",
      "                                                                                                  \n",
      " conv2d_68 (Conv2D)             (None, 17, 17, 192)  258048      ['activation_67[0][0]']          \n",
      "                                                                                                  \n",
      " conv2d_69 (Conv2D)             (None, 17, 17, 192)  147456      ['average_pooling2d_6[0][0]']    \n",
      "                                                                                                  \n",
      " batch_normalization_60 (BatchN  (None, 17, 17, 192)  576        ['conv2d_60[0][0]']              \n",
      " ormalization)                                                                                    \n",
      "                                                                                                  \n",
      " batch_normalization_63 (BatchN  (None, 17, 17, 192)  576        ['conv2d_63[0][0]']              \n",
      " ormalization)                                                                                    \n",
      "                                                                                                  \n",
      " batch_normalization_68 (BatchN  (None, 17, 17, 192)  576        ['conv2d_68[0][0]']              \n",
      " ormalization)                                                                                    \n",
      "                                                                                                  \n",
      " batch_normalization_69 (BatchN  (None, 17, 17, 192)  576        ['conv2d_69[0][0]']              \n",
      " ormalization)                                                                                    \n",
      "                                                                                                  \n",
      " activation_60 (Activation)     (None, 17, 17, 192)  0           ['batch_normalization_60[0][0]'] \n",
      "                                                                                                  \n",
      " activation_63 (Activation)     (None, 17, 17, 192)  0           ['batch_normalization_63[0][0]'] \n",
      "                                                                                                  \n",
      " activation_68 (Activation)     (None, 17, 17, 192)  0           ['batch_normalization_68[0][0]'] \n",
      "                                                                                                  \n",
      " activation_69 (Activation)     (None, 17, 17, 192)  0           ['batch_normalization_69[0][0]'] \n",
      "                                                                                                  \n",
      " mixed7 (Concatenate)           (None, 17, 17, 768)  0           ['activation_60[0][0]',          \n",
      "                                                                  'activation_63[0][0]',          \n",
      "                                                                  'activation_68[0][0]',          \n",
      "                                                                  'activation_69[0][0]']          \n",
      "                                                                                                  \n",
      " conv2d_72 (Conv2D)             (None, 17, 17, 192)  147456      ['mixed7[0][0]']                 \n",
      "                                                                                                  \n",
      " batch_normalization_72 (BatchN  (None, 17, 17, 192)  576        ['conv2d_72[0][0]']              \n",
      " ormalization)                                                                                    \n",
      "                                                                                                  \n",
      " activation_72 (Activation)     (None, 17, 17, 192)  0           ['batch_normalization_72[0][0]'] \n",
      "                                                                                                  \n",
      " conv2d_73 (Conv2D)             (None, 17, 17, 192)  258048      ['activation_72[0][0]']          \n",
      "                                                                                                  \n",
      " batch_normalization_73 (BatchN  (None, 17, 17, 192)  576        ['conv2d_73[0][0]']              \n",
      " ormalization)                                                                                    \n",
      "                                                                                                  \n",
      " activation_73 (Activation)     (None, 17, 17, 192)  0           ['batch_normalization_73[0][0]'] \n",
      "                                                                                                  \n",
      " conv2d_70 (Conv2D)             (None, 17, 17, 192)  147456      ['mixed7[0][0]']                 \n",
      "                                                                                                  \n",
      " conv2d_74 (Conv2D)             (None, 17, 17, 192)  258048      ['activation_73[0][0]']          \n",
      "                                                                                                  \n",
      " batch_normalization_70 (BatchN  (None, 17, 17, 192)  576        ['conv2d_70[0][0]']              \n",
      " ormalization)                                                                                    \n",
      "                                                                                                  \n",
      " batch_normalization_74 (BatchN  (None, 17, 17, 192)  576        ['conv2d_74[0][0]']              \n",
      " ormalization)                                                                                    \n",
      "                                                                                                  \n",
      " activation_70 (Activation)     (None, 17, 17, 192)  0           ['batch_normalization_70[0][0]'] \n",
      "                                                                                                  \n",
      " activation_74 (Activation)     (None, 17, 17, 192)  0           ['batch_normalization_74[0][0]'] \n",
      "                                                                                                  \n",
      " conv2d_71 (Conv2D)             (None, 8, 8, 320)    552960      ['activation_70[0][0]']          \n",
      "                                                                                                  \n",
      " conv2d_75 (Conv2D)             (None, 8, 8, 192)    331776      ['activation_74[0][0]']          \n",
      "                                                                                                  \n",
      " batch_normalization_71 (BatchN  (None, 8, 8, 320)   960         ['conv2d_71[0][0]']              \n",
      " ormalization)                                                                                    \n",
      "                                                                                                  \n",
      " batch_normalization_75 (BatchN  (None, 8, 8, 192)   576         ['conv2d_75[0][0]']              \n",
      " ormalization)                                                                                    \n",
      "                                                                                                  \n",
      " activation_71 (Activation)     (None, 8, 8, 320)    0           ['batch_normalization_71[0][0]'] \n",
      "                                                                                                  \n",
      " activation_75 (Activation)     (None, 8, 8, 192)    0           ['batch_normalization_75[0][0]'] \n",
      "                                                                                                  \n",
      " max_pooling2d_3 (MaxPooling2D)  (None, 8, 8, 768)   0           ['mixed7[0][0]']                 \n",
      "                                                                                                  \n",
      " mixed8 (Concatenate)           (None, 8, 8, 1280)   0           ['activation_71[0][0]',          \n",
      "                                                                  'activation_75[0][0]',          \n",
      "                                                                  'max_pooling2d_3[0][0]']        \n",
      "                                                                                                  \n",
      " conv2d_80 (Conv2D)             (None, 8, 8, 448)    573440      ['mixed8[0][0]']                 \n",
      "                                                                                                  \n",
      " batch_normalization_80 (BatchN  (None, 8, 8, 448)   1344        ['conv2d_80[0][0]']              \n",
      " ormalization)                                                                                    \n",
      "                                                                                                  \n",
      " activation_80 (Activation)     (None, 8, 8, 448)    0           ['batch_normalization_80[0][0]'] \n",
      "                                                                                                  \n",
      " conv2d_77 (Conv2D)             (None, 8, 8, 384)    491520      ['mixed8[0][0]']                 \n",
      "                                                                                                  \n",
      " conv2d_81 (Conv2D)             (None, 8, 8, 384)    1548288     ['activation_80[0][0]']          \n",
      "                                                                                                  \n",
      " batch_normalization_77 (BatchN  (None, 8, 8, 384)   1152        ['conv2d_77[0][0]']              \n",
      " ormalization)                                                                                    \n",
      "                                                                                                  \n",
      " batch_normalization_81 (BatchN  (None, 8, 8, 384)   1152        ['conv2d_81[0][0]']              \n",
      " ormalization)                                                                                    \n",
      "                                                                                                  \n",
      " activation_77 (Activation)     (None, 8, 8, 384)    0           ['batch_normalization_77[0][0]'] \n",
      "                                                                                                  \n",
      " activation_81 (Activation)     (None, 8, 8, 384)    0           ['batch_normalization_81[0][0]'] \n",
      "                                                                                                  \n",
      " conv2d_78 (Conv2D)             (None, 8, 8, 384)    442368      ['activation_77[0][0]']          \n",
      "                                                                                                  \n",
      " conv2d_79 (Conv2D)             (None, 8, 8, 384)    442368      ['activation_77[0][0]']          \n",
      "                                                                                                  \n",
      " conv2d_82 (Conv2D)             (None, 8, 8, 384)    442368      ['activation_81[0][0]']          \n",
      "                                                                                                  \n",
      " conv2d_83 (Conv2D)             (None, 8, 8, 384)    442368      ['activation_81[0][0]']          \n",
      "                                                                                                  \n",
      " average_pooling2d_7 (AveragePo  (None, 8, 8, 1280)  0           ['mixed8[0][0]']                 \n",
      " oling2D)                                                                                         \n",
      "                                                                                                  \n",
      " conv2d_76 (Conv2D)             (None, 8, 8, 320)    409600      ['mixed8[0][0]']                 \n",
      "                                                                                                  \n",
      " batch_normalization_78 (BatchN  (None, 8, 8, 384)   1152        ['conv2d_78[0][0]']              \n",
      " ormalization)                                                                                    \n",
      "                                                                                                  \n",
      " batch_normalization_79 (BatchN  (None, 8, 8, 384)   1152        ['conv2d_79[0][0]']              \n",
      " ormalization)                                                                                    \n",
      "                                                                                                  \n",
      " batch_normalization_82 (BatchN  (None, 8, 8, 384)   1152        ['conv2d_82[0][0]']              \n",
      " ormalization)                                                                                    \n",
      "                                                                                                  \n",
      " batch_normalization_83 (BatchN  (None, 8, 8, 384)   1152        ['conv2d_83[0][0]']              \n",
      " ormalization)                                                                                    \n",
      "                                                                                                  \n",
      " conv2d_84 (Conv2D)             (None, 8, 8, 192)    245760      ['average_pooling2d_7[0][0]']    \n",
      "                                                                                                  \n",
      " batch_normalization_76 (BatchN  (None, 8, 8, 320)   960         ['conv2d_76[0][0]']              \n",
      " ormalization)                                                                                    \n",
      "                                                                                                  \n",
      " activation_78 (Activation)     (None, 8, 8, 384)    0           ['batch_normalization_78[0][0]'] \n",
      "                                                                                                  \n",
      " activation_79 (Activation)     (None, 8, 8, 384)    0           ['batch_normalization_79[0][0]'] \n",
      "                                                                                                  \n",
      " activation_82 (Activation)     (None, 8, 8, 384)    0           ['batch_normalization_82[0][0]'] \n",
      "                                                                                                  \n",
      " activation_83 (Activation)     (None, 8, 8, 384)    0           ['batch_normalization_83[0][0]'] \n",
      "                                                                                                  \n",
      " batch_normalization_84 (BatchN  (None, 8, 8, 192)   576         ['conv2d_84[0][0]']              \n",
      " ormalization)                                                                                    \n",
      "                                                                                                  \n",
      " activation_76 (Activation)     (None, 8, 8, 320)    0           ['batch_normalization_76[0][0]'] \n",
      "                                                                                                  \n",
      " mixed9_0 (Concatenate)         (None, 8, 8, 768)    0           ['activation_78[0][0]',          \n",
      "                                                                  'activation_79[0][0]']          \n",
      "                                                                                                  \n",
      " concatenate (Concatenate)      (None, 8, 8, 768)    0           ['activation_82[0][0]',          \n",
      "                                                                  'activation_83[0][0]']          \n",
      "                                                                                                  \n",
      " activation_84 (Activation)     (None, 8, 8, 192)    0           ['batch_normalization_84[0][0]'] \n",
      "                                                                                                  \n",
      " mixed9 (Concatenate)           (None, 8, 8, 2048)   0           ['activation_76[0][0]',          \n",
      "                                                                  'mixed9_0[0][0]',               \n",
      "                                                                  'concatenate[0][0]',            \n",
      "                                                                  'activation_84[0][0]']          \n",
      "                                                                                                  \n",
      " conv2d_89 (Conv2D)             (None, 8, 8, 448)    917504      ['mixed9[0][0]']                 \n",
      "                                                                                                  \n",
      " batch_normalization_89 (BatchN  (None, 8, 8, 448)   1344        ['conv2d_89[0][0]']              \n",
      " ormalization)                                                                                    \n",
      "                                                                                                  \n",
      " activation_89 (Activation)     (None, 8, 8, 448)    0           ['batch_normalization_89[0][0]'] \n",
      "                                                                                                  \n",
      " conv2d_86 (Conv2D)             (None, 8, 8, 384)    786432      ['mixed9[0][0]']                 \n",
      "                                                                                                  \n",
      " conv2d_90 (Conv2D)             (None, 8, 8, 384)    1548288     ['activation_89[0][0]']          \n",
      "                                                                                                  \n",
      " batch_normalization_86 (BatchN  (None, 8, 8, 384)   1152        ['conv2d_86[0][0]']              \n",
      " ormalization)                                                                                    \n",
      "                                                                                                  \n",
      " batch_normalization_90 (BatchN  (None, 8, 8, 384)   1152        ['conv2d_90[0][0]']              \n",
      " ormalization)                                                                                    \n",
      "                                                                                                  \n",
      " activation_86 (Activation)     (None, 8, 8, 384)    0           ['batch_normalization_86[0][0]'] \n",
      "                                                                                                  \n",
      " activation_90 (Activation)     (None, 8, 8, 384)    0           ['batch_normalization_90[0][0]'] \n",
      "                                                                                                  \n",
      " conv2d_87 (Conv2D)             (None, 8, 8, 384)    442368      ['activation_86[0][0]']          \n",
      "                                                                                                  \n",
      " conv2d_88 (Conv2D)             (None, 8, 8, 384)    442368      ['activation_86[0][0]']          \n",
      "                                                                                                  \n",
      " conv2d_91 (Conv2D)             (None, 8, 8, 384)    442368      ['activation_90[0][0]']          \n",
      "                                                                                                  \n",
      " conv2d_92 (Conv2D)             (None, 8, 8, 384)    442368      ['activation_90[0][0]']          \n",
      "                                                                                                  \n",
      " average_pooling2d_8 (AveragePo  (None, 8, 8, 2048)  0           ['mixed9[0][0]']                 \n",
      " oling2D)                                                                                         \n",
      "                                                                                                  \n",
      " conv2d_85 (Conv2D)             (None, 8, 8, 320)    655360      ['mixed9[0][0]']                 \n",
      "                                                                                                  \n",
      " batch_normalization_87 (BatchN  (None, 8, 8, 384)   1152        ['conv2d_87[0][0]']              \n",
      " ormalization)                                                                                    \n",
      "                                                                                                  \n",
      " batch_normalization_88 (BatchN  (None, 8, 8, 384)   1152        ['conv2d_88[0][0]']              \n",
      " ormalization)                                                                                    \n",
      "                                                                                                  \n",
      " batch_normalization_91 (BatchN  (None, 8, 8, 384)   1152        ['conv2d_91[0][0]']              \n",
      " ormalization)                                                                                    \n",
      "                                                                                                  \n",
      " batch_normalization_92 (BatchN  (None, 8, 8, 384)   1152        ['conv2d_92[0][0]']              \n",
      " ormalization)                                                                                    \n",
      "                                                                                                  \n",
      " conv2d_93 (Conv2D)             (None, 8, 8, 192)    393216      ['average_pooling2d_8[0][0]']    \n",
      "                                                                                                  \n",
      " batch_normalization_85 (BatchN  (None, 8, 8, 320)   960         ['conv2d_85[0][0]']              \n",
      " ormalization)                                                                                    \n",
      "                                                                                                  \n",
      " activation_87 (Activation)     (None, 8, 8, 384)    0           ['batch_normalization_87[0][0]'] \n",
      "                                                                                                  \n",
      " activation_88 (Activation)     (None, 8, 8, 384)    0           ['batch_normalization_88[0][0]'] \n",
      "                                                                                                  \n",
      " activation_91 (Activation)     (None, 8, 8, 384)    0           ['batch_normalization_91[0][0]'] \n",
      "                                                                                                  \n",
      " activation_92 (Activation)     (None, 8, 8, 384)    0           ['batch_normalization_92[0][0]'] \n",
      "                                                                                                  \n",
      " batch_normalization_93 (BatchN  (None, 8, 8, 192)   576         ['conv2d_93[0][0]']              \n",
      " ormalization)                                                                                    \n",
      "                                                                                                  \n",
      " activation_85 (Activation)     (None, 8, 8, 320)    0           ['batch_normalization_85[0][0]'] \n",
      "                                                                                                  \n",
      " mixed9_1 (Concatenate)         (None, 8, 8, 768)    0           ['activation_87[0][0]',          \n",
      "                                                                  'activation_88[0][0]']          \n",
      "                                                                                                  \n",
      " concatenate_1 (Concatenate)    (None, 8, 8, 768)    0           ['activation_91[0][0]',          \n",
      "                                                                  'activation_92[0][0]']          \n",
      "                                                                                                  \n",
      " activation_93 (Activation)     (None, 8, 8, 192)    0           ['batch_normalization_93[0][0]'] \n",
      "                                                                                                  \n",
      " mixed10 (Concatenate)          (None, 8, 8, 2048)   0           ['activation_85[0][0]',          \n",
      "                                                                  'mixed9_1[0][0]',               \n",
      "                                                                  'concatenate_1[0][0]',          \n",
      "                                                                  'activation_93[0][0]']          \n",
      "                                                                                                  \n",
      " average_pooling2d_9 (AveragePo  (None, 1, 1, 2048)  0           ['mixed10[0][0]']                \n",
      " oling2D)                                                                                         \n",
      "                                                                                                  \n",
      " dropout (Dropout)              (None, 1, 1, 2048)   0           ['average_pooling2d_9[0][0]']    \n",
      "                                                                                                  \n",
      " flatten (Flatten)              (None, 2048)         0           ['dropout[0][0]']                \n",
      "                                                                                                  \n",
      " dropout_1 (Dropout)            (None, 2048)         0           ['flatten[0][0]']                \n",
      "                                                                                                  \n",
      " dense (Dense)                  (None, 422)          864678      ['dropout_1[0][0]']              \n",
      "                                                                                                  \n",
      "==================================================================================================\n",
      "Total params: 22,667,462\n",
      "Trainable params: 22,633,030\n",
      "Non-trainable params: 34,432\n",
      "__________________________________________________________________________________________________\n"
     ]
    }
   ],
   "source": [
    "model.summary()"
   ]
  },
  {
   "cell_type": "markdown",
   "metadata": {},
   "source": [
    "## Save Model"
   ]
  },
  {
   "cell_type": "code",
   "execution_count": null,
   "metadata": {
    "executionInfo": {
     "elapsed": 294,
     "status": "ok",
     "timestamp": 1653650834241,
     "user": {
      "displayName": "김민엽",
      "userId": "11235644958609629845"
     },
     "user_tz": -540
    },
    "id": "kkzT3KQ5iREK"
   },
   "outputs": [],
   "source": [
    "model.save('best_model.h5')"
   ]
  },
  {
   "cell_type": "code",
   "execution_count": null,
   "metadata": {
    "id": "iXC0ABYsGz6J"
   },
   "outputs": [],
   "source": [
    "from tensorflow.keras import models\n",
    "model = models.load_model('best_model.h5')"
   ]
  },
  {
   "cell_type": "markdown",
   "metadata": {},
   "source": [
    "## Evaluate"
   ]
  },
  {
   "cell_type": "code",
   "execution_count": null,
   "metadata": {
    "colab": {
     "base_uri": "https://localhost:8080/"
    },
    "executionInfo": {
     "elapsed": 116846,
     "status": "ok",
     "timestamp": 1653650951361,
     "user": {
      "displayName": "김민엽",
      "userId": "11235644958609629845"
     },
     "user_tz": -540
    },
    "id": "rtNPkj7fGz6K",
    "outputId": "808f67da-7233-411a-b5ea-b43122a376d0"
   },
   "outputs": [
    {
     "name": "stdout",
     "output_type": "stream",
     "text": [
      "Found 23521 images belonging to 422 classes.\n",
      "736/736 [==============================] - 116s 157ms/step - loss: 3.3760 - accuracy: 0.2933\n"
     ]
    }
   ],
   "source": [
    "val_datagen = ImageDataGenerator(rescale = 1./255)\n",
    "\n",
    "val_generator = val_datagen.flow_from_directory(\n",
    "    split_dir['valid'],\n",
    "    target_size = (299, 299),\n",
    "    batch_size = 32,\n",
    "    shuffle=True,\n",
    "    seed = 42\n",
    ")\n",
    "\n",
    "val_prediction = model.evaluate(val_generator, steps=len(val_generator))"
   ]
  },
  {
   "cell_type": "code",
   "execution_count": null,
   "metadata": {
    "colab": {
     "base_uri": "https://localhost:8080/"
    },
    "executionInfo": {
     "elapsed": 345,
     "status": "ok",
     "timestamp": 1653651016117,
     "user": {
      "displayName": "김민엽",
      "userId": "11235644958609629845"
     },
     "user_tz": -540
    },
    "id": "sqriuO3_R8S8",
    "outputId": "afcef143-dade-4080-a5c8-9945399419da"
   },
   "outputs": [
    {
     "data": {
      "text/plain": [
       "2"
      ]
     },
     "metadata": {},
     "output_type": "display_data"
    }
   ],
   "source": [
    "len(val_prediction)"
   ]
  },
  {
   "cell_type": "markdown",
   "metadata": {},
   "source": [
    "## Predict"
   ]
  },
  {
   "cell_type": "code",
   "execution_count": null,
   "metadata": {
    "colab": {
     "base_uri": "https://localhost:8080/"
    },
    "executionInfo": {
     "elapsed": 23,
     "status": "ok",
     "timestamp": 1653650951409,
     "user": {
      "displayName": "김민엽",
      "userId": "11235644958609629845"
     },
     "user_tz": -540
    },
    "id": "_GJ362ScGz6K",
    "outputId": "372831d1-50bd-47f3-f12d-7619de541715"
   },
   "outputs": [
    {
     "name": "stdout",
     "output_type": "stream",
     "text": [
      "{'가리비': 0, '가지': 1, '가지구이': 2, '가츠동': 3, '간장': 4, '갈비구이': 5, '갈비탕': 6, '감': 7, '감귤주스': 8, '감자구이': 9, '감자그라탕': 10, '감자볶음': 11, '감자샐러드': 12, '감자스프': 13, '감자칩': 14, '감자튀김': 15, '거봉포도': 16, '건자두': 17, '건포도': 18, '게맛살': 19, '게장': 20, '겨자소스': 21, '경단': 22, '계란말이': 23, '계란볶음밥': 24, '계란샌드위치': 25, '계란찜': 26, '계란후라이': 27, '고구마': 28, '고등어': 29, '고등어구이': 30, '고르곤졸라': 31, '고르곤졸라피자': 32, '고추': 33, '고추장': 34, '고추장아찌': 35, '고춧가루': 36, '골드키위': 37, '곶감': 38, '과일주스': 39, '과일채소샐러드': 40, '구아바': 41, '국수': 42, '국화차': 43, '군고구마': 44, '귤': 45, '그라탕': 46, '그린올리브': 47, '김': 48, '김마끼': 49, '김밥': 50, '김치국': 51, '김치볶음밥': 52, '김치찌개': 53, '까르보나라': 54, '까망베르치즈': 55, '껌': 56, '꿀': 57, '나시고랭': 58, '낫또': 59, '냉면': 60, '녹즙': 61, '누텔라': 62, '다시마': 63, '단감': 64, '단호박': 65, '닭가슴살': 66, '닭가슴살샐러드': 67, '닭갈비': 68, '닭강정': 69, '닭고기볶음': 70, '닭날개': 71, '닭훈제구이': 72, '당근': 73, '당근주스': 74, '당근케이크': 75, '대추': 76, '대파': 77, '데리야끼치킨': 78, '도넛': 79, '도리아': 80, '도리야끼': 81, '돼지갈비찜': 82, '돼지감자': 83, '돼지고기볶음': 84, '돼지고기스테이크': 85, '두부': 86, '두부튀김': 87, '두유': 88, '등심스테이크': 89, '딤섬': 90, '딸기': 91, '딸기아이스크림': 92, '땅콩버터': 93, '떡갈비': 94, '떡국': 95, '똠양꿍': 96, '라멘': 97, '라면': 98, '라자냐': 99, '랍스타': 100, '레모네이드': 101, '레몬': 102, '로메인상추': 103, '롤케이크': 104, '리조또': 105, '리코타치즈': 106, '마': 107, '마늘구이': 108, '마늘장아찌': 109, '마들렌': 110, '마르게리따피자': 111, '마른오징어': 112, '마시멜로우': 113, '마요네즈': 114, '마카로니샐러드': 115, '마카롱': 116, '마테차': 117, '막걸리': 118, '막대사탕': 119, '만두': 120, '만두국': 121, '망고': 122, '매실': 123, '맥주': 124, '머핀': 125, '메밀': 126, '메쉬드포테이토': 127, '멜론': 128, '모둠회': 129, '모짜렐라치즈': 130, '무우': 131, '문어': 132, '물미역': 133, '뮤즐리': 134, '미소장국': 135, '미역나물': 136, '미트볼': 137, '밀감': 138, '바게트빵': 139, '바나나': 140, '바나나우유': 141, '바나나칩': 142, '바닐라아이스크림': 143, '바베큐치킨': 144, '밤': 145, '밥': 146, '방울토마토': 147, '백도': 148, '백향과': 149, '버섯 장아찌': 150, '버터': 151, '버터쿠키': 152, '번데기': 153, '베이글': 154, '베이글샌드위치': 155, '베이컨구이': 156, '베이컨피자': 157, '보드카': 158, '보리빵': 159, '보쌈': 160, '보이차': 161, '복숭아': 162, '볶음면': 163, '볶음쌀국수': 164, '봉골레파스타': 165, '부대찌개': 166, '부침개': 167, '붉은 양배추 절임': 168, '붕어빵': 169, '브라우니': 170, '브라질너트': 171, '브로콜리': 172, '블랙커피': 173, '블루베리': 174, '비빔밥': 175, '비엔나소시지': 176, '빵': 177, '뻥튀기': 178, '사과': 179, '사과샐러드': 180, '사과주스': 181, '사과파이': 182, '사이다': 183, '사탕': 184, '산딸기': 185, '살구': 186, '살사소스': 187, '삶은고구마': 188, '삶은달걀': 189, '삼겹살': 190, '삼계탕': 191, '상추': 192, '상추샐러드': 193, '새싹샐러드': 194, '새우': 195, '새우매운탕': 196, '새우볶음밥': 197, '새우튀김': 198, '생강차': 199, '생과일주스': 200, '생맥주': 201, '생선구이': 202, '생선튀김': 203, '생크림케이크': 204, '석류': 205, '설탕': 206, '셀러리': 207, '소고기육포': 208, '소금': 209, '소시지': 210, '솜사탕': 211, '송편': 212, '쇠고기구이': 213, '수박': 214, '수프': 215, '숙주나물': 216, '순대국밥': 217, '쉐이크': 218, '슈크림': 219, '스크램블드에그': 220, '스테이크': 221, '스튜': 222, '스파게티': 223, '슬라이스치즈': 224, '시금치': 225, '시럽': 226, '시리얼': 227, '시리얼바': 228, '시저샐러드': 229, '아마씨': 230, '아보카도': 231, '아보카도샐러드': 232, '아스파라거스볶음밥': 233, '아오리사과': 234, '아이스라떼': 235, '아이스커피': 236, '아이스크림': 237, '아이스티': 238, '아포가토': 239, '안심스테이크': 240, '알로에주스': 241, '애호박': 242, '액상요구르트': 243, '앵두': 244, '야끼소바': 245, '야채볶음': 246, '양꼬치': 247, '양념치킨': 248, '양배추': 249, '양배추샐러드': 250, '양배추쌈': 251, '양배추절임': 252, '양상추샐러드': 253, '양주': 254, '양파': 255, '양파샐러드': 256, '양파튀김': 257, '어묵국': 258, '어묵탕': 259, '어육소시지': 260, '에그타르트': 261, '연어구이': 262, '연어샐러드': 263, '연어초밥': 264, '연어회': 265, '오디': 266, '오렌지': 267, '오렌지주스': 268, '오리구이': 269, '오므라이스': 270, '오믈렛': 271, '오미자': 272, '오이': 273, '오이샐러드': 274, '오이피클': 275, '오코노미야끼': 276, '오트밀': 277, '와사비': 278, '와인': 279, '와플': 280, '우동': 281, '우유': 282, '유과': 283, '유자': 284, '육포': 285, '인삼': 286, '자두': 287, '자몽': 288, '자몽주스': 289, '잡곡식빵': 290, '잣': 291, '장어구이': 292, '장어초밥': 293, '적양배추': 294, '전복': 295, '절임배추': 296, '젤리': 297, '조미김': 298, '족발': 299, '주먹밥': 300, '주스': 301, '짬뽕': 302, '쨈빵': 303, '쪽갈비구이': 304, '쭈꾸미볶음': 305, '찐빵': 306, '찜닭': 307, '참깨': 308, '참외': 309, '참치통조림': 310, '참치회': 311, '채소주스': 312, '채소죽': 313, '천도복숭아': 314, '청포도': 315, '체리': 316, '초밥': 317, '초코머핀': 318, '초코아이스크림': 319, '초코우유': 320, '초코케이크': 321, '초코쿠키': 322, '초콜릿': 323, '춘권': 324, '츄러스': 325, '치즈볼': 326, '치즈스틱': 327, '치즈피자': 328, '치커리': 329, '치킨너겟': 330, '치킨카레': 331, '칠리소스': 332, '카나페': 333, '카라멜': 334, '카레라이스': 335, '카레소스': 336, '카카오닙스': 337, '카페모카': 338, '카푸치노': 339, '카프레제샐러드': 340, '캐러멜마끼아또': 341, '캘리포니아롤': 342, '커스터드크림': 343, '커피': 344, '컵라면': 345, '케이크': 346, '케일': 347, '케첩': 348, '코코아': 349, '콜라비': 350, '콤비네이션피자': 351, '콩나물': 352, '콩샐러드': 353, '쿠키': 354, '퀘사디아': 355, '크래커': 356, '크랜베리': 357, '크레페': 358, '크로와상': 359, '크림치즈': 360, '크림파스타': 361, '키위': 362, '타코야키': 363, '탄산음료': 364, '토마토샐러드': 365, '토마토주스': 366, '토스트': 367, '통밀빵': 368, '티라미수': 369, '파니니': 370, '파인애플': 371, '파전': 372, '파파야': 373, '파프리카': 374, '팝콘': 375, '팥': 376, '팥죽': 377, '팬네파스타': 378, '페퍼로니피자': 379, '포도': 380, '폭립': 381, '표고버섯': 382, '푸딩': 383, '풋고추': 384, '프레즐': 385, '프렌치토스트': 386, '피망': 387, '피스타치오': 388, '피칸': 389, '하와이안피자': 390, '한라봉': 391, '할라피뇨': 392, '할라피뇨피클': 393, '함박스테이크': 394, '핫도그': 395, '핫소스': 396, '핫윙': 397, '핫초코': 398, '핫케이크': 399, '해물덮밥': 400, '해물볶음': 401, '해바라기씨': 402, '해시브라운': 403, '햄': 404, '햄볶음밥': 405, '햄샌드위치': 406, '햄치즈샌드위치': 407, '호두': 408, '호두파이': 409, '호박씨': 410, '홍차': 411, '화이트와인': 412, '후라이드치킨': 413, '후라이드치킨날개': 414, '후라이드치킨다리': 415, '후랑크소시지': 416, '후추': 417, '훈제연어': 418, '훈제오리': 419, '훈제오리샐러드': 420, '흰죽': 421}\n",
      "{'가리비': 0, '가지': 1, '가지구이': 2, '가츠동': 3, '간장': 4, '갈비구이': 5, '갈비탕': 6, '감': 7, '감귤주스': 8, '감자구이': 9, '감자그라탕': 10, '감자볶음': 11, '감자샐러드': 12, '감자스프': 13, '감자칩': 14, '감자튀김': 15, '거봉포도': 16, '건자두': 17, '건포도': 18, '게맛살': 19, '게장': 20, '겨자소스': 21, '경단': 22, '계란말이': 23, '계란볶음밥': 24, '계란샌드위치': 25, '계란찜': 26, '계란후라이': 27, '고구마': 28, '고등어': 29, '고등어구이': 30, '고르곤졸라': 31, '고르곤졸라피자': 32, '고추': 33, '고추장': 34, '고추장아찌': 35, '고춧가루': 36, '골드키위': 37, '곶감': 38, '과일주스': 39, '과일채소샐러드': 40, '구아바': 41, '국수': 42, '국화차': 43, '군고구마': 44, '귤': 45, '그라탕': 46, '그린올리브': 47, '김': 48, '김마끼': 49, '김밥': 50, '김치국': 51, '김치볶음밥': 52, '김치찌개': 53, '까르보나라': 54, '까망베르치즈': 55, '껌': 56, '꿀': 57, '나시고랭': 58, '낫또': 59, '냉면': 60, '녹즙': 61, '누텔라': 62, '다시마': 63, '단감': 64, '단호박': 65, '닭가슴살': 66, '닭가슴살샐러드': 67, '닭갈비': 68, '닭강정': 69, '닭고기볶음': 70, '닭날개': 71, '닭훈제구이': 72, '당근': 73, '당근주스': 74, '당근케이크': 75, '대추': 76, '대파': 77, '데리야끼치킨': 78, '도넛': 79, '도리아': 80, '도리야끼': 81, '돼지갈비찜': 82, '돼지감자': 83, '돼지고기볶음': 84, '돼지고기스테이크': 85, '두부': 86, '두부튀김': 87, '두유': 88, '등심스테이크': 89, '딤섬': 90, '딸기': 91, '딸기아이스크림': 92, '땅콩버터': 93, '떡갈비': 94, '떡국': 95, '똠양꿍': 96, '라멘': 97, '라면': 98, '라자냐': 99, '랍스타': 100, '레모네이드': 101, '레몬': 102, '로메인상추': 103, '롤케이크': 104, '리조또': 105, '리코타치즈': 106, '마': 107, '마늘구이': 108, '마늘장아찌': 109, '마들렌': 110, '마르게리따피자': 111, '마른오징어': 112, '마시멜로우': 113, '마요네즈': 114, '마카로니샐러드': 115, '마카롱': 116, '마테차': 117, '막걸리': 118, '막대사탕': 119, '만두': 120, '만두국': 121, '망고': 122, '매실': 123, '맥주': 124, '머핀': 125, '메밀': 126, '메쉬드포테이토': 127, '멜론': 128, '모둠회': 129, '모짜렐라치즈': 130, '무우': 131, '문어': 132, '물미역': 133, '뮤즐리': 134, '미소장국': 135, '미역나물': 136, '미트볼': 137, '밀감': 138, '바게트빵': 139, '바나나': 140, '바나나우유': 141, '바나나칩': 142, '바닐라아이스크림': 143, '바베큐치킨': 144, '밤': 145, '밥': 146, '방울토마토': 147, '백도': 148, '백향과': 149, '버섯 장아찌': 150, '버터': 151, '버터쿠키': 152, '번데기': 153, '베이글': 154, '베이글샌드위치': 155, '베이컨구이': 156, '베이컨피자': 157, '보드카': 158, '보리빵': 159, '보쌈': 160, '보이차': 161, '복숭아': 162, '볶음면': 163, '볶음쌀국수': 164, '봉골레파스타': 165, '부대찌개': 166, '부침개': 167, '붉은 양배추 절임': 168, '붕어빵': 169, '브라우니': 170, '브라질너트': 171, '브로콜리': 172, '블랙커피': 173, '블루베리': 174, '비빔밥': 175, '비엔나소시지': 176, '빵': 177, '뻥튀기': 178, '사과': 179, '사과샐러드': 180, '사과주스': 181, '사과파이': 182, '사이다': 183, '사탕': 184, '산딸기': 185, '살구': 186, '살사소스': 187, '삶은고구마': 188, '삶은달걀': 189, '삼겹살': 190, '삼계탕': 191, '상추': 192, '상추샐러드': 193, '새싹샐러드': 194, '새우': 195, '새우매운탕': 196, '새우볶음밥': 197, '새우튀김': 198, '생강차': 199, '생과일주스': 200, '생맥주': 201, '생선구이': 202, '생선튀김': 203, '생크림케이크': 204, '석류': 205, '설탕': 206, '셀러리': 207, '소고기육포': 208, '소금': 209, '소시지': 210, '솜사탕': 211, '송편': 212, '쇠고기구이': 213, '수박': 214, '수프': 215, '숙주나물': 216, '순대국밥': 217, '쉐이크': 218, '슈크림': 219, '스크램블드에그': 220, '스테이크': 221, '스튜': 222, '스파게티': 223, '슬라이스치즈': 224, '시금치': 225, '시럽': 226, '시리얼': 227, '시리얼바': 228, '시저샐러드': 229, '아마씨': 230, '아보카도': 231, '아보카도샐러드': 232, '아스파라거스볶음밥': 233, '아오리사과': 234, '아이스라떼': 235, '아이스커피': 236, '아이스크림': 237, '아이스티': 238, '아포가토': 239, '안심스테이크': 240, '알로에주스': 241, '애호박': 242, '액상요구르트': 243, '앵두': 244, '야끼소바': 245, '야채볶음': 246, '양꼬치': 247, '양념치킨': 248, '양배추': 249, '양배추샐러드': 250, '양배추쌈': 251, '양배추절임': 252, '양상추샐러드': 253, '양주': 254, '양파': 255, '양파샐러드': 256, '양파튀김': 257, '어묵국': 258, '어묵탕': 259, '어육소시지': 260, '에그타르트': 261, '연어구이': 262, '연어샐러드': 263, '연어초밥': 264, '연어회': 265, '오디': 266, '오렌지': 267, '오렌지주스': 268, '오리구이': 269, '오므라이스': 270, '오믈렛': 271, '오미자': 272, '오이': 273, '오이샐러드': 274, '오이피클': 275, '오코노미야끼': 276, '오트밀': 277, '와사비': 278, '와인': 279, '와플': 280, '우동': 281, '우유': 282, '유과': 283, '유자': 284, '육포': 285, '인삼': 286, '자두': 287, '자몽': 288, '자몽주스': 289, '잡곡식빵': 290, '잣': 291, '장어구이': 292, '장어초밥': 293, '적양배추': 294, '전복': 295, '절임배추': 296, '젤리': 297, '조미김': 298, '족발': 299, '주먹밥': 300, '주스': 301, '짬뽕': 302, '쨈빵': 303, '쪽갈비구이': 304, '쭈꾸미볶음': 305, '찐빵': 306, '찜닭': 307, '참깨': 308, '참외': 309, '참치통조림': 310, '참치회': 311, '채소주스': 312, '채소죽': 313, '천도복숭아': 314, '청포도': 315, '체리': 316, '초밥': 317, '초코머핀': 318, '초코아이스크림': 319, '초코우유': 320, '초코케이크': 321, '초코쿠키': 322, '초콜릿': 323, '춘권': 324, '츄러스': 325, '치즈볼': 326, '치즈스틱': 327, '치즈피자': 328, '치커리': 329, '치킨너겟': 330, '치킨카레': 331, '칠리소스': 332, '카나페': 333, '카라멜': 334, '카레라이스': 335, '카레소스': 336, '카카오닙스': 337, '카페모카': 338, '카푸치노': 339, '카프레제샐러드': 340, '캐러멜마끼아또': 341, '캘리포니아롤': 342, '커스터드크림': 343, '커피': 344, '컵라면': 345, '케이크': 346, '케일': 347, '케첩': 348, '코코아': 349, '콜라비': 350, '콤비네이션피자': 351, '콩나물': 352, '콩샐러드': 353, '쿠키': 354, '퀘사디아': 355, '크래커': 356, '크랜베리': 357, '크레페': 358, '크로와상': 359, '크림치즈': 360, '크림파스타': 361, '키위': 362, '타코야키': 363, '탄산음료': 364, '토마토샐러드': 365, '토마토주스': 366, '토스트': 367, '통밀빵': 368, '티라미수': 369, '파니니': 370, '파인애플': 371, '파전': 372, '파파야': 373, '파프리카': 374, '팝콘': 375, '팥': 376, '팥죽': 377, '팬네파스타': 378, '페퍼로니피자': 379, '포도': 380, '폭립': 381, '표고버섯': 382, '푸딩': 383, '풋고추': 384, '프레즐': 385, '프렌치토스트': 386, '피망': 387, '피스타치오': 388, '피칸': 389, '하와이안피자': 390, '한라봉': 391, '할라피뇨': 392, '할라피뇨피클': 393, '함박스테이크': 394, '핫도그': 395, '핫소스': 396, '핫윙': 397, '핫초코': 398, '핫케이크': 399, '해물덮밥': 400, '해물볶음': 401, '해바라기씨': 402, '해시브라운': 403, '햄': 404, '햄볶음밥': 405, '햄샌드위치': 406, '햄치즈샌드위치': 407, '호두': 408, '호두파이': 409, '호박씨': 410, '홍차': 411, '화이트와인': 412, '후라이드치킨': 413, '후라이드치킨날개': 414, '후라이드치킨다리': 415, '후랑크소시지': 416, '후추': 417, '훈제연어': 418, '훈제오리': 419, '훈제오리샐러드': 420, '흰죽': 421}\n"
     ]
    }
   ],
   "source": [
    "food_classes = val_generator.class_indices\n",
    "print(food_classes)"
   ]
  },
  {
   "cell_type": "code",
   "execution_count": null,
   "metadata": {
    "colab": {
     "base_uri": "https://localhost:8080/"
    },
    "executionInfo": {
     "elapsed": 284,
     "status": "ok",
     "timestamp": 1653629887079,
     "user": {
      "displayName": "김민엽",
      "userId": "03578768081358188494"
     },
     "user_tz": -540
    },
    "id": "m61CTJwvGz6K",
    "outputId": "77d1dbc3-60ae-49fa-8758-e876903bc252"
   },
   "outputs": [],
   "source": [
    "import numpy as np\n",
    "import cv2\n",
    "\n",
    "food_classes = {v:k for k,v in food_classes.items()}"
   ]
  },
  {
   "cell_type": "code",
   "execution_count": null,
   "metadata": {},
   "outputs": [],
   "source": []
  }
 ],
 "metadata": {
  "interpreter": {
   "hash": "d6c8b2079989812a11d6b05a84f3dab0146bce280e1d744bfd0e1eb18afe9e7a"
  },
  "kernelspec": {
   "display_name": "Python 3.9.10 ('torch')",
   "language": "python",
   "name": "python3"
  },
  "language_info": {
   "codemirror_mode": {
    "name": "ipython",
    "version": 3
   },
   "file_extension": ".py",
   "mimetype": "text/x-python",
   "name": "python",
   "nbconvert_exporter": "python",
   "pygments_lexer": "ipython3",
   "version": "3.9.10"
  },
  "orig_nbformat": 4
 },
 "nbformat": 4,
 "nbformat_minor": 2
}

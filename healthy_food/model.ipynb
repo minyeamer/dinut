{
 "cells": [
  {
   "cell_type": "markdown",
   "metadata": {},
   "source": [
    "# AI허브 건강관리를 위한 음식 이미지"
   ]
  },
  {
   "cell_type": "code",
   "execution_count": null,
   "metadata": {},
   "outputs": [],
   "source": [
    "import os\n",
    "root_dir = '../../healthy_food'\n",
    "base_dir = os.path.join(root_dir, 'data')\n",
    "split_dir = {split_name:os.path.join(base_dir,split_name)\n",
    "                for split_name in ['train','valid','test']}"
   ]
  },
  {
   "cell_type": "markdown",
   "metadata": {},
   "source": [
    "## Modeling"
   ]
  },
  {
   "cell_type": "code",
   "execution_count": null,
   "metadata": {},
   "outputs": [],
   "source": [
    "import tensorflow as tf\n",
    "from keras.applications.inception_v3 import InceptionV3\n",
    "from keras.models import Model\n",
    "from keras.layers import Dense, Dropout, Flatten, AveragePooling2D, Input\n",
    "from keras.preprocessing import image\n",
    "from keras.preprocessing.image import ImageDataGenerator\n",
    "from keras.callbacks import ModelCheckpoint, LearningRateScheduler, EarlyStopping\n",
    "from tf.keras.optimizers import SGD\n",
    "from keras.regularizers import l2\n",
    "import keras.backend as K"
   ]
  },
  {
   "cell_type": "code",
   "execution_count": null,
   "metadata": {},
   "outputs": [
    {
     "name": "stdout",
     "output_type": "stream",
     "text": [
      "Found 93143 images belonging to 422 classes.\n",
      "Found 11590 images belonging to 422 classes.\n",
      "Found 11172 images belonging to 422 classes.\n"
     ]
    }
   ],
   "source": [
    "# 이미지의 각 픽셀을 255로 나눠주는 것은 필수!\n",
    "train_datagen = ImageDataGenerator(\n",
    "    rescale = 1./255,\n",
    "    rotation_range=20,\n",
    "    width_shift_range=0.2,\n",
    "    height_shift_range=0.2,\n",
    "    shear_range=0.2,\n",
    "    zoom_range=0.2,\n",
    "    horizontal_flip=True,\n",
    "    fill_mode='nearest'\n",
    ")\n",
    "\n",
    "# valid, test 데이터는 augmentation 하면 안됨!\n",
    "val_datagen = ImageDataGenerator(rescale = 1./255)\n",
    "test_datagen = ImageDataGenerator(rescale= 1./255)\n",
    "\n",
    "train_generator = train_datagen.flow_from_directory(\n",
    "    split_dir['train'],\n",
    "    target_size = (299, 299),\n",
    "    batch_size = 32,\n",
    "    seed = 42\n",
    ")\n",
    "\n",
    "val_generator = val_datagen.flow_from_directory(\n",
    "    split_dir['valid'],\n",
    "    target_size = (299, 299),\n",
    "    batch_size = 32,\n",
    "    shuffle=True,\n",
    "    seed = 42\n",
    ")\n",
    "\n",
    "test_generator = test_datagen.flow_from_directory(\n",
    "    split_dir['test'],\n",
    "    target_size = (299, 299),\n",
    "    batch_size = 32,\n",
    "    seed = 42\n",
    ")"
   ]
  },
  {
   "cell_type": "code",
   "execution_count": null,
   "metadata": {},
   "outputs": [
    {
     "name": "stdout",
     "output_type": "stream",
     "text": [
      "배치 데이터 크기 :  (32, 299, 299, 3)\n",
      "배치 레이블 크기 :  (32, 422)\n"
     ]
    }
   ],
   "source": [
    "for data_batch, labels_batch in train_generator:\n",
    "    print('Batch data size:', data_batch.shape)\n",
    "    print('Batch label size:', labels_batch.shape)\n",
    "    break\n",
    "print('Generator length:', len(train_generator))"
   ]
  },
  {
   "cell_type": "code",
   "execution_count": null,
   "metadata": {},
   "outputs": [
    {
     "data": {
      "text/plain": [
       "'220521_132937'"
      ]
     },
     "metadata": {},
     "output_type": "display_data"
    }
   ],
   "source": [
    "from datetime import datetime\n",
    "now = datetime.now().strftime('%y%m%d_%H%M%S')\n",
    "now"
   ]
  },
  {
   "cell_type": "code",
   "execution_count": null,
   "metadata": {},
   "outputs": [
    {
     "name": "stdout",
     "output_type": "stream",
     "text": [
      "/Users/cuz/Downloads/Data/model/2022-5-21-12h/{epoch:02d}-{val_acc:.4f}.hdf5\n"
     ]
    }
   ],
   "source": [
    "# 모델 저장 경로 설정\n",
    "from datetime import datetime\n",
    "now = datetime.now().strftime('%y%m%d_%H%M%S')\n",
    "\n",
    "model_dir = os.path.join(base_dir, 'model')\n",
    "save_dir = os.path.join(model_dir, now)\n",
    "\n",
    "if not(os.path.isdir(model_dir)):\n",
    "    os.mkdir(model_dir)\n",
    "os.mkdir(save_dir)\n",
    "\n",
    "model_path = save_dir + '/{epoch:02d}-{val_acc:.4f}.hdf5'\n",
    "print(model_path)"
   ]
  },
  {
   "cell_type": "code",
   "execution_count": null,
   "metadata": {},
   "outputs": [
    {
     "name": "stderr",
     "output_type": "stream",
     "text": [
      "/Users/cuz/miniforge3/envs/tf/lib/python3.9/site-packages/keras/optimizer_v2/gradient_descent.py:102: UserWarning: The `lr` argument is deprecated, use `learning_rate` instead.\n",
      "  super(SGD, self).__init__(name, **kwargs)\n"
     ]
    }
   ],
   "source": [
    "K.clear_session()\n",
    "\n",
    "with K.tf.device('/device:GPU:0'): # gpu 사용\n",
    "    # create the base pre-trained model\n",
    "    base_model = InceptionV3(weights='imagenet', include_top=False, input_tensor=Input(shape=(299, 299, 3)))\n",
    "\n",
    "    x = base_model.output\n",
    "    x = AveragePooling2D(pool_size=(8, 8))(x)\n",
    "    x = Dropout(.4)(x)\n",
    "    x = Flatten()(x)\n",
    "    x = Dropout(.4)(x)\n",
    "    predictions = Dense(422, kernel_regularizer=l2(.0005), activation='softmax')(x)\n",
    "\n",
    "    # this is the model we will train\n",
    "    model = Model(inputs=base_model.input, outputs=predictions)\n",
    "    \n",
    "    opt = SGD(lr=.01, momentum=.9)\n",
    "    model.compile(optimizer=opt, loss='categorical_crossentropy', metrics=['accuracy'])\n",
    "    \n",
    "    early_stopping = EarlyStopping(monitor='val_loss', patience=10) # 조기종료 콜백함수 정의\n",
    "    cb_checkpoint = ModelCheckpoint(filepath=model_path, monitor='val_acc',\n",
    "                                    verbose=1, save_best_only=True) # 체크포인트 저장"
   ]
  },
  {
   "cell_type": "code",
   "execution_count": null,
   "metadata": {},
   "outputs": [],
   "source": [
    "# lr_scheduler : epoch 증가함에 따라 learning_rate를 작게 해 cosf_function이 최적값 주변에서 맴도는 것을 완화!\n",
    "\n",
    "def schedule(epoch):\n",
    "    if epoch < 15:\n",
    "        return .01\n",
    "    elif epoch < 28:\n",
    "        return .002\n",
    "    else:\n",
    "        return .0004\n",
    "lr_scheduler = LearningRateScheduler(schedule)"
   ]
  },
  {
   "cell_type": "code",
   "execution_count": null,
   "metadata": {},
   "outputs": [
    {
     "name": "stderr",
     "output_type": "stream",
     "text": [
      "/var/folders/zq/5f2h2lwd7vd8py_tdcdkh4lm0000gn/T/ipykernel_7264/496670375.py:1: UserWarning: `Model.fit_generator` is deprecated and will be removed in a future version. Please use `Model.fit`, which supports generators.\n",
      "  history2 = model.fit_generator(train_generator,\n"
     ]
    },
    {
     "name": "stdout",
     "output_type": "stream",
     "text": [
      "Epoch 1/30\n"
     ]
    },
    {
     "name": "stderr",
     "output_type": "stream",
     "text": [
      "2022-05-21 12:18:03.356013: W tensorflow/core/platform/profile_utils/cpu_utils.cc:128] Failed to get CPU frequency: 0 Hz\n",
      "2022-05-21 12:18:05.434261: I tensorflow/core/grappler/optimizers/custom_graph_optimizer_registry.cc:113] Plugin optimizer for device_type GPU is enabled.\n",
      "Exception in thread Thread-39:\n",
      "Traceback (most recent call last):\n",
      "  File \"/Users/cuz/miniforge3/envs/tf/lib/python3.9/threading.py\", line 973, in _bootstrap_inner\n",
      "    self.run()\n",
      "  File \"/Users/cuz/miniforge3/envs/tf/lib/python3.9/threading.py\", line 910, in run\n",
      "    self._target(*self._args, **self._kwargs)\n",
      "  File \"/Users/cuz/miniforge3/envs/tf/lib/python3.9/site-packages/keras/utils/data_utils.py\", line 745, in _run\n",
      "    with closing(self.executor_fn(_SHARED_SEQUENCES)) as executor:\n",
      "  File \"/Users/cuz/miniforge3/envs/tf/lib/python3.9/site-packages/keras/utils/data_utils.py\", line 722, in pool_fn\n",
      "    pool = get_pool_class(True)(\n",
      "  File \"/Users/cuz/miniforge3/envs/tf/lib/python3.9/multiprocessing/context.py\", line 119, in Pool\n",
      "    return Pool(processes, initializer, initargs, maxtasksperchild,\n",
      "  File \"/Users/cuz/miniforge3/envs/tf/lib/python3.9/multiprocessing/pool.py\", line 212, in __init__\n",
      "    self._repopulate_pool()\n",
      "  File \"/Users/cuz/miniforge3/envs/tf/lib/python3.9/multiprocessing/pool.py\", line 303, in _repopulate_pool\n",
      "    return self._repopulate_pool_static(self._ctx, self.Process,\n",
      "  File \"/Users/cuz/miniforge3/envs/tf/lib/python3.9/multiprocessing/pool.py\", line 326, in _repopulate_pool_static\n",
      "    w.start()\n",
      "  File \"/Users/cuz/miniforge3/envs/tf/lib/python3.9/multiprocessing/process.py\", line 121, in start\n",
      "    self._popen = self._Popen(self)\n",
      "  File \"/Users/cuz/miniforge3/envs/tf/lib/python3.9/multiprocessing/context.py\", line 284, in _Popen\n",
      "    return Popen(process_obj)\n",
      "  File \"/Users/cuz/miniforge3/envs/tf/lib/python3.9/multiprocessing/popen_spawn_posix.py\", line 32, in __init__\n",
      "    super().__init__(process_obj)\n",
      "  File \"/Users/cuz/miniforge3/envs/tf/lib/python3.9/multiprocessing/popen_fork.py\", line 19, in __init__\n",
      "    self._launch(process_obj)\n",
      "  File \"/Users/cuz/miniforge3/envs/tf/lib/python3.9/multiprocessing/popen_spawn_posix.py\", line 47, in _launch\n",
      "    reduction.dump(process_obj, fp)\n",
      "  File \"/Users/cuz/miniforge3/envs/tf/lib/python3.9/multiprocessing/reduction.py\", line 60, in dump\n",
      "    ForkingPickler(file, protocol).dump(obj)\n",
      "TypeError: cannot pickle '_thread.lock' object\n"
     ]
    }
   ],
   "source": [
    "history2 = model.fit_generator(train_generator,\n",
    "                    epochs=30, steps_per_epoch= len(train_generator), \n",
    "                    validation_data = val_generator,\n",
    "                    validation_steps= len(val_generator),\n",
    "                    use_multiprocessing=True,\n",
    "                    callbacks=[cb_checkpoint, early_stopping, lr_scheduler]\n",
    "                    )"
   ]
  }
 ],
 "metadata": {
  "language_info": {
   "name": "python"
  },
  "orig_nbformat": 4
 },
 "nbformat": 4,
 "nbformat_minor": 2
}
